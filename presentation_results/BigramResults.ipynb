{
 "cells": [
  {
   "cell_type": "code",
   "execution_count": 27,
   "metadata": {},
   "outputs": [],
   "source": [
    "import snscrape.modules.twitter as sntwitter\n",
    "import pandas as pd\n",
    "import numpy as np\n",
    "import re\n",
    "import datetime\n",
    "import pickle\n",
    "import nltk\n",
    "import sklearn\n",
    "import matplotlib.pyplot as plt\n",
    "import string\n",
    "from nltk.stem import WordNetLemmatizer\n",
    "from nltk.corpus import stopwords\n",
    "\n",
    "from sklearn.linear_model import LogisticRegression\n",
    "from sklearn.linear_model import LogisticRegressionCV\n",
    "from sklearn.ensemble import AdaBoostClassifier\n",
    "from sklearn.tree import DecisionTreeClassifier\n",
    "from sklearn.ensemble import RandomForestClassifier\n",
    "from sklearn.neural_network import MLPClassifier\n",
    "from sklearn.naive_bayes import GaussianNB\n",
    "\n",
    "import keras\n",
    "from keras.models import Sequential\n",
    "from keras.layers import Dense\n",
    "from keras.utils import to_categorical\n",
    "from keras.layers import *\n",
    "from keras.regularizers import l1,l2, L1L2"
   ]
  },
  {
   "cell_type": "code",
   "execution_count": 36,
   "metadata": {},
   "outputs": [],
   "source": [
    "seed_value = 273958\n",
    "import os\n",
    "os.environ['PYTHONHASHSEED']=str(seed_value)\n",
    "import random\n",
    "import numpy as np\n",
    "np.random.seed(seed_value)\n",
    "import tensorflow as tf\n",
    "tf.random.set_seed(seed_value)"
   ]
  },
  {
   "cell_type": "code",
   "execution_count": 2,
   "metadata": {},
   "outputs": [],
   "source": [
    "# load in tweets\n",
    "with open('../data/pickled_tweets/home_2019_3daysback_nolikecriterion.pkl', 'rb') as f:\n",
    "    home_2019_tweets = pickle.load(f)\n",
    "with open('../data/pickled_tweets/away_2019_3daysback_nolikecriterion.pkl', 'rb') as f:\n",
    "    away_2019_tweets = pickle.load(f)\n",
    "with open('../data/pickled_tweets/home_2020_3daysback_nolikecriterion.pkl', 'rb') as f:\n",
    "    home_2020_tweets = pickle.load(f)\n",
    "with open('../data/pickled_tweets/away_2020_3daysback_nolikecriterion.pkl', 'rb') as f:\n",
    "    away_2020_tweets = pickle.load(f)\n",
    "\n",
    "# load in nfl data\n",
    "s2020 = pd.read_csv('../data/season_data/2020_all_data.csv', index_col=0)\n",
    "s2019 = pd.read_csv('../data/season_data/2019_all_data.csv', index_col=0)"
   ]
  },
  {
   "cell_type": "code",
   "execution_count": 3,
   "metadata": {},
   "outputs": [],
   "source": [
    "sw = stopwords.words('english')\n",
    "\n",
    "# lemmatize function\n",
    "def lemmatize(sentence, include_stopwords=False):\n",
    "    if include_stopwords:\n",
    "        return [WordNetLemmatizer().lemmatize(word) for word in sentence]\n",
    "    return [WordNetLemmatizer().lemmatize(word) for word in sentence if word not in sw]\n",
    "\n",
    "# preprocess the tweets - remove punctuation and lemmatize\n",
    "def preprocess(tweets):\n",
    "    for i in range(len(tweets)):\n",
    "        for j in range(len(tweets[i])):\n",
    "            tweets[i][j] = re.sub('[^a-zA-Z]',' ',tweets[i][j]).split()\n",
    "            tweets[i][j] = lemmatize(tweets[i][j])\n",
    "\n",
    "preprocess(home_2019_tweets)\n",
    "preprocess(away_2019_tweets)\n",
    "preprocess(home_2020_tweets)\n",
    "preprocess(away_2020_tweets)"
   ]
  },
  {
   "cell_type": "code",
   "execution_count": 4,
   "metadata": {},
   "outputs": [],
   "source": [
    "from collections import Counter\n",
    "def vectorize_list(list_of_tweets, corpus):\n",
    "    num_tweets = len(list_of_tweets)\n",
    "    lol = [nltk.bigrams(x) for x in list_of_tweets]\n",
    "    with_repeats = [item for sublist in lol for item in sublist]\n",
    "    counts = dict(Counter(with_repeats))\n",
    "    to_return = []\n",
    "    for key in corpus:\n",
    "        num = np.log(1+counts[key]) if key in counts else 0\n",
    "        to_return.append(num)\n",
    "    return to_return"
   ]
  },
  {
   "cell_type": "code",
   "execution_count": 5,
   "metadata": {},
   "outputs": [],
   "source": [
    "# count bigrams\n",
    "def count_bigrams(tweet,corpus):\n",
    "    bigramized_tweet = nltk.bigrams(tweet)\n",
    "    for bigram in bigramized_tweet:\n",
    "        if bigram in corpus:\n",
    "            corpus[bigram] += 1\n",
    "        else:\n",
    "            corpus[bigram] = 1"
   ]
  },
  {
   "cell_type": "code",
   "execution_count": 6,
   "metadata": {},
   "outputs": [],
   "source": [
    "#Create the home/away corpus\n",
    "home_corpus = {}\n",
    "away_corpus = {}\n",
    "for tweets in home_2019_tweets:\n",
    "    for tw in tweets:\n",
    "        count_bigrams(tw,home_corpus)\n",
    "\n",
    "for tweets in away_2019_tweets:\n",
    "    for tw in tweets:\n",
    "        count_bigrams(tw,away_corpus)"
   ]
  },
  {
   "cell_type": "code",
   "execution_count": 7,
   "metadata": {},
   "outputs": [],
   "source": [
    "# get number of tweets for all home and away teams\n",
    "n_home_tweets = sum([len(game_tweets) for game_tweets in home_2019_tweets])\n",
    "n_away_tweets = sum([len(game_tweets) for game_tweets in away_2019_tweets])\n",
    "\n",
    "# get the unigrams that appear in at least 0.1% of home/away tweets\n",
    "home_top_grams = [word for word in home_corpus if home_corpus[word] > n_home_tweets*0.0001]\n",
    "away_top_grams = [word for word in away_corpus if away_corpus[word] > n_away_tweets*0.0001]"
   ]
  },
  {
   "cell_type": "code",
   "execution_count": 8,
   "metadata": {},
   "outputs": [],
   "source": [
    "# TRAIN SET\n",
    "#Create lists of vectors for home, away games\n",
    "num_h_tweets = [vectorize_list(game, home_top_grams) for game in home_2019_tweets]\n",
    "num_a_tweets = [vectorize_list(game, away_top_grams) for game in away_2019_tweets]\n",
    "\n",
    "#Turn into arrays\n",
    "home_vecs = np.array(num_h_tweets)\n",
    "away_vecs = np.array(num_a_tweets)\n",
    "\n",
    "#Concatenate home, away to form input matrix.\n",
    "X_train = np.concatenate([home_vecs, away_vecs], axis=1)\n",
    "\n",
    "# TEST SET\n",
    "#Create lists of vectors for home, away games\n",
    "num_h_tweets = [vectorize_list(game, home_top_grams) for game in home_2020_tweets]\n",
    "num_a_tweets = [vectorize_list(game, away_top_grams) for game in away_2020_tweets]\n",
    "\n",
    "#Turn into arrays\n",
    "home_vecs = np.array(num_h_tweets)\n",
    "away_vecs = np.array(num_a_tweets)\n",
    "\n",
    "#Concatenate home, away to form input matrix.\n",
    "X_test = np.concatenate([home_vecs, away_vecs], axis=1)\n",
    "\n",
    "# TRAIN and TEST outcomes\n",
    "Y_train = np.array(s2019[\"Home Win\"])\n",
    "Y_test = np.array(s2020[\"Home Win\"])"
   ]
  },
  {
   "cell_type": "code",
   "execution_count": 37,
   "metadata": {},
   "outputs": [
    {
     "name": "stdout",
     "output_type": "stream",
     "text": [
      "0.57421875\n",
      "0.60546875\n",
      "0.61328125\n",
      "0.5625\n",
      "0.58984375\n",
      "0.53125\n"
     ]
    }
   ],
   "source": [
    "# Basic classifiers on full data\n",
    "lr = LogisticRegression(penalty=\"l1\",solver=\"liblinear\",C=0.1)\n",
    "lr.fit(X_train, Y_train)\n",
    "print(lr.score(X_test, Y_test))\n",
    "\n",
    "lrl1 = LogisticRegressionCV(cv=5,penalty=\"l1\",solver=\"liblinear\",\n",
    "                            max_iter=1000).fit(X_train, Y_train)\n",
    "lrl1.fit(X_train, Y_train)\n",
    "print(lrl1.score(X_test, Y_test))\n",
    "\n",
    "lrl2 = LogisticRegressionCV(cv=5,penalty=\"l2\",solver=\"liblinear\",\n",
    "                            max_iter=1000).fit(X_train, Y_train)\n",
    "lrl2.fit(X_train, Y_train)\n",
    "print(lrl2.score(X_test, Y_test))\n",
    "\n",
    "ada = AdaBoostClassifier(n_estimators=200)\n",
    "ada.fit(X_train, Y_train)\n",
    "print(ada.score(X_test, Y_test))\n",
    "\n",
    "rf = RandomForestClassifier(n_estimators=400)\n",
    "rf.fit(X_train, Y_train)\n",
    "print(rf.score(X_test, Y_test))\n",
    "\n",
    "gnb = GaussianNB().fit(X_train, Y_train)\n",
    "gnb.fit(X_train, Y_train)\n",
    "print(gnb.score(X_test, Y_test))"
   ]
  },
  {
   "cell_type": "code",
   "execution_count": 38,
   "metadata": {},
   "outputs": [
    {
     "name": "stdout",
     "output_type": "stream",
     "text": [
      "Epoch 1/10\n",
      "8/8 [==============================] - 2s 131ms/step - loss: 3.1070 - accuracy: 0.5100\n",
      "Epoch 2/10\n",
      "8/8 [==============================] - 1s 127ms/step - loss: 2.4411 - accuracy: 0.3929\n",
      "Epoch 3/10\n",
      "8/8 [==============================] - 1s 128ms/step - loss: 2.3236 - accuracy: 0.4968\n",
      "Epoch 4/10\n",
      "8/8 [==============================] - 1s 128ms/step - loss: 2.2081 - accuracy: 0.5838\n",
      "Epoch 5/10\n",
      "8/8 [==============================] - 1s 130ms/step - loss: 2.1155 - accuracy: 0.5266\n",
      "Epoch 6/10\n",
      "8/8 [==============================] - 1s 130ms/step - loss: 1.9268 - accuracy: 0.7282\n",
      "Epoch 7/10\n",
      "8/8 [==============================] - 1s 125ms/step - loss: 1.6889 - accuracy: 0.8383\n",
      "Epoch 8/10\n",
      "8/8 [==============================] - 1s 129ms/step - loss: 1.3470 - accuracy: 0.9569\n",
      "Epoch 9/10\n",
      "8/8 [==============================] - 1s 142ms/step - loss: 1.1723 - accuracy: 0.9927\n",
      "Epoch 10/10\n",
      "8/8 [==============================] - 1s 137ms/step - loss: 1.0731 - accuracy: 0.9954\n",
      "8/8 [==============================] - 0s 36ms/step - loss: 2.3456 - accuracy: 0.5938\n"
     ]
    },
    {
     "data": {
      "text/plain": [
       "[2.34562087059021, 0.59375]"
      ]
     },
     "execution_count": 38,
     "metadata": {},
     "output_type": "execute_result"
    }
   ],
   "source": [
    "reg=1e-5\n",
    "model = Sequential()\n",
    "model.add(Dense(1024, activation='tanh', kernel_regularizer=L1L2(reg), input_dim=X_train.shape[1]))\n",
    "#model.add(Dropout(.1))\n",
    "model.add(Dense(512, activation='tanh',kernel_regularizer=L1L2(reg)))\n",
    "#model.add(Dropout(.1))\n",
    "model.add(Dense(256, activation='tanh',kernel_regularizer=L1L2(reg)))\n",
    "#model.add(Dropout(.1))\n",
    "model.add(Dense(128, activation='tanh',kernel_regularizer=L1L2(reg)))\n",
    "#model.add(Dropout(.1))\n",
    "model.add(Dense(64, activation='tanh',kernel_regularizer=L1L2(reg)))\n",
    "#model.add(Dropout(.1))\n",
    "model.add(Dense(1, activation='sigmoid'))\n",
    "\n",
    "model.compile(optimizer='adam', \n",
    "              loss='binary_crossentropy', \n",
    "              metrics=['accuracy'])\n",
    "\n",
    "model.fit(X_train, Y_train, epochs=10, verbose=True)\n",
    "model.evaluate(X_test, Y_test)"
   ]
  },
  {
   "cell_type": "code",
   "execution_count": 33,
   "metadata": {},
   "outputs": [
    {
     "data": {
      "image/png": "[encoded data removed]",
      "text/plain": [
       "<Figure size 432x288 with 1 Axes>"
      ]
     },
     "metadata": {
      "needs_background": "light"
     },
     "output_type": "display_data"
    }
   ],
   "source": [
    "# Use PCA to reduce dimensions of X to n components\n",
    "n = 25\n",
    "pca = sklearn.decomposition.PCA(n_components=n)\n",
    "pca.fit(X_train)\n",
    "plt.bar(x=range(n),height=pca.explained_variance_ratio_)\n",
    "reduced_X_train = pca.transform(X_train)\n",
    "reduced_X_test = pca.transform(X_test)"
   ]
  },
  {
   "cell_type": "code",
   "execution_count": 39,
   "metadata": {},
   "outputs": [
    {
     "name": "stdout",
     "output_type": "stream",
     "text": [
      "0.5703125\n",
      "0.625\n",
      "0.61328125\n",
      "0.54296875\n",
      "0.5703125\n",
      "0.58203125\n",
      "0.49609375\n"
     ]
    }
   ],
   "source": [
    "# Basic classifiers on reduced data\n",
    "lr = LogisticRegression()\n",
    "lr.fit(reduced_X_train, Y_train)\n",
    "print(lr.score(reduced_X_test, Y_test))\n",
    "\n",
    "lrl1 = LogisticRegressionCV(cv=5,penalty=\"l1\",solver=\"liblinear\",\n",
    "                            max_iter=1000).fit(X_train, Y_train)\n",
    "lrl1.fit(X_train, Y_train)\n",
    "print(lrl1.score(X_test, Y_test))\n",
    "\n",
    "lrl2 = LogisticRegressionCV(cv=5,penalty=\"l2\",solver=\"liblinear\",\n",
    "                            max_iter=1000).fit(X_train, Y_train)\n",
    "lrl2.fit(X_train, Y_train)\n",
    "print(lrl2.score(X_test, Y_test))\n",
    "\n",
    "ada = AdaBoostClassifier(n_estimators=200)\n",
    "ada.fit(reduced_X_train, Y_train)\n",
    "print(ada.score(reduced_X_test, Y_test))\n",
    "\n",
    "rf = RandomForestClassifier(n_estimators=400)\n",
    "rf.fit(reduced_X_train, Y_train)\n",
    "print(rf.score(reduced_X_test, Y_test))\n",
    "\n",
    "mlp = MLPClassifier(max_iter=10000)\n",
    "mlp.fit(reduced_X_train, Y_train)\n",
    "print(mlp.score(reduced_X_test, Y_test))\n",
    "\n",
    "gnb = GaussianNB().fit(reduced_X_train, Y_train)\n",
    "gnb.fit(reduced_X_train, Y_train)\n",
    "print(gnb.score(reduced_X_test, Y_test))"
   ]
  },
  {
   "cell_type": "code",
   "execution_count": 40,
   "metadata": {},
   "outputs": [
    {
     "name": "stdout",
     "output_type": "stream",
     "text": [
      "Epoch 1/10\n",
      "8/8 [==============================] - 1s 5ms/step - loss: 1.2095 - accuracy: 0.5001\n",
      "Epoch 2/10\n",
      "8/8 [==============================] - 0s 5ms/step - loss: 0.8691 - accuracy: 0.6342\n",
      "Epoch 3/10\n",
      "8/8 [==============================] - 0s 5ms/step - loss: 0.7765 - accuracy: 0.7621\n",
      "Epoch 4/10\n",
      "8/8 [==============================] - 0s 5ms/step - loss: 0.7479 - accuracy: 0.7589\n",
      "Epoch 5/10\n",
      "8/8 [==============================] - 0s 5ms/step - loss: 0.7040 - accuracy: 0.8295\n",
      "Epoch 6/10\n",
      "8/8 [==============================] - 0s 5ms/step - loss: 0.6627 - accuracy: 0.8046\n",
      "Epoch 7/10\n",
      "8/8 [==============================] - 0s 5ms/step - loss: 0.6358 - accuracy: 0.8294\n",
      "Epoch 8/10\n",
      "8/8 [==============================] - 0s 5ms/step - loss: 0.6181 - accuracy: 0.8656\n",
      "Epoch 9/10\n",
      "8/8 [==============================] - 0s 4ms/step - loss: 0.5897 - accuracy: 0.8455\n",
      "Epoch 10/10\n",
      "8/8 [==============================] - 0s 5ms/step - loss: 0.5585 - accuracy: 0.8593\n",
      "8/8 [==============================] - 0s 2ms/step - loss: 1.1532 - accuracy: 0.5859\n"
     ]
    },
    {
     "data": {
      "text/plain": [
       "[1.1532106399536133, 0.5859375]"
      ]
     },
     "execution_count": 40,
     "metadata": {},
     "output_type": "execute_result"
    }
   ],
   "source": [
    "reg=1e-5\n",
    "model = Sequential()\n",
    "model.add(Dense(1024, activation='tanh', kernel_regularizer=L1L2(reg), input_dim=reduced_X_train.shape[1]))\n",
    "#model.add(Dropout(.1))\n",
    "model.add(Dense(512, activation='tanh',kernel_regularizer=L1L2(reg)))\n",
    "#model.add(Dropout(.1))\n",
    "model.add(Dense(256, activation='tanh',kernel_regularizer=L1L2(reg)))\n",
    "#model.add(Dropout(.1))\n",
    "model.add(Dense(128, activation='tanh',kernel_regularizer=L1L2(reg)))\n",
    "#model.add(Dropout(.1))\n",
    "model.add(Dense(64, activation='tanh',kernel_regularizer=L1L2(reg)))\n",
    "#model.add(Dropout(.1))\n",
    "model.add(Dense(1, activation='sigmoid'))\n",
    "\n",
    "model.compile(optimizer='adam', \n",
    "              loss='binary_crossentropy', \n",
    "              metrics=['accuracy'])\n",
    "\n",
    "model.fit(reduced_X_train, Y_train, epochs=10, verbose=True)\n",
    "model.evaluate(reduced_X_test, Y_test)"
   ]
  }
 ],
 "metadata": {
  "kernelspec": {
   "display_name": "Python 3",
   "language": "python",
   "name": "python3"
  },
  "language_info": {
   "codemirror_mode": {
    "name": "ipython",
    "version": 3
   },
   "file_extension": ".py",
   "mimetype": "text/x-python",
   "name": "python",
   "nbconvert_exporter": "python",
   "pygments_lexer": "ipython3",
   "version": "3.8.5"
  }
 },
 "nbformat": 4,
 "nbformat_minor": 4
}
