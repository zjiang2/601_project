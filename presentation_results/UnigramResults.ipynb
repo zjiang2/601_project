{
 "cells": [
  {
   "cell_type": "code",
   "execution_count": 1,
   "metadata": {},
   "outputs": [],
   "source": [
    "import snscrape.modules.twitter as sntwitter\n",
    "import pandas as pd\n",
    "import numpy as np\n",
    "import re\n",
    "import datetime\n",
    "import pickle\n",
    "import nltk\n",
    "import sklearn\n",
    "import matplotlib.pyplot as plt\n",
    "from nltk.stem import WordNetLemmatizer\n",
    "\n",
    "from sklearn.linear_model import LogisticRegression\n",
    "from sklearn.linear_model import LogisticRegressionCV\n",
    "from sklearn.ensemble import AdaBoostClassifier\n",
    "from sklearn.tree import DecisionTreeClassifier\n",
    "from sklearn.ensemble import RandomForestClassifier\n",
    "from sklearn.neural_network import MLPClassifier\n",
    "from sklearn.naive_bayes import GaussianNB\n",
    "\n",
    "import keras\n",
    "from keras.models import Sequential\n",
    "from keras.layers import Dense\n",
    "from keras.utils import to_categorical\n",
    "from keras.layers import *\n",
    "from keras.regularizers import l1,l2, L1L2"
   ]
  },
  {
   "cell_type": "code",
   "execution_count": 2,
   "metadata": {},
   "outputs": [],
   "source": [
    "seed_value = 273958\n",
    "import os\n",
    "os.environ['PYTHONHASHSEED']=str(seed_value)\n",
    "import random\n",
    "import numpy as np\n",
    "np.random.seed(seed_value)\n",
    "import tensorflow as tf\n",
    "tf.random.set_seed(seed_value)"
   ]
  },
  {
   "cell_type": "code",
   "execution_count": 3,
   "metadata": {},
   "outputs": [],
   "source": [
    "# load in tweets\n",
    "with open('../data/pickled_tweets/home_2019_3daysback_nolikecriterion.pkl', 'rb') as f:\n",
    "    home_2019_tweets = pickle.load(f)\n",
    "with open('../data/pickled_tweets/away_2019_3daysback_nolikecriterion.pkl', 'rb') as f:\n",
    "    away_2019_tweets = pickle.load(f)\n",
    "with open('../data/pickled_tweets/home_2020_3daysback_nolikecriterion.pkl', 'rb') as f:\n",
    "    home_2020_tweets = pickle.load(f)\n",
    "with open('../data/pickled_tweets/away_2020_3daysback_nolikecriterion.pkl', 'rb') as f:\n",
    "    away_2020_tweets = pickle.load(f)\n",
    "\n",
    "# load in nfl data\n",
    "s2020 = pd.read_csv('../data/season_data/2020_all_data.csv', index_col=0)\n",
    "s2019 = pd.read_csv('../data/season_data/2019_all_data.csv', index_col=0)"
   ]
  },
  {
   "cell_type": "code",
   "execution_count": 4,
   "metadata": {},
   "outputs": [],
   "source": [
    "#Define a list of stopwords to remove.\n",
    "stopwords = nltk.corpus.stopwords.words(\"english\")\n",
    "\n",
    "# lemmatize function\n",
    "def lemmatize(sentence, include_stopwords=False):\n",
    "    if include_stopwords:\n",
    "        return [WordNetLemmatizer().lemmatize(word) for word in sentence]\n",
    "    return [WordNetLemmatizer().lemmatize(word) for word in sentence if word not in stopwords]\n",
    "\n",
    "# preprocess the tweets - remove punctuation and lemmatize\n",
    "def preprocess(tweets):\n",
    "    for i in range(len(tweets)):\n",
    "        for j in range(len(tweets[i])):\n",
    "            tweets[i][j] = re.sub('[^a-zA-Z]',' ',tweets[i][j]).split()\n",
    "            tweets[i][j] = lemmatize(tweets[i][j])\n",
    "\n",
    "preprocess(home_2019_tweets)\n",
    "preprocess(away_2019_tweets)\n",
    "preprocess(home_2020_tweets)\n",
    "preprocess(away_2020_tweets)"
   ]
  },
  {
   "cell_type": "code",
   "execution_count": 5,
   "metadata": {},
   "outputs": [],
   "source": [
    "from collections import Counter\n",
    "def vectorize_list(list_of_tweets, corpus):\n",
    "    num_tweets = len(list_of_tweets)\n",
    "    with_repeats = [item for sublist in list_of_tweets for item in sublist]\n",
    "    counts = dict(Counter(with_repeats))\n",
    "    to_return = []\n",
    "    for key in corpus:\n",
    "        num = np.log(1+counts[key]) if key in counts else 0\n",
    "        to_return.append(num)\n",
    "    return to_return"
   ]
  },
  {
   "cell_type": "code",
   "execution_count": 6,
   "metadata": {},
   "outputs": [],
   "source": [
    "# count unigrams\n",
    "def count_unigrams(tweet,corpus):\n",
    "    for word in tweet:\n",
    "        if word in corpus:\n",
    "            corpus[word] += 1\n",
    "        else:\n",
    "            corpus[word] = 1"
   ]
  },
  {
   "cell_type": "code",
   "execution_count": 7,
   "metadata": {},
   "outputs": [],
   "source": [
    "#Create the home/away corpus\n",
    "home_corpus = {}\n",
    "away_corpus = {}\n",
    "for tweets in home_2019_tweets:\n",
    "    for tw in tweets:\n",
    "        count_unigrams(tw,home_corpus)\n",
    "\n",
    "for tweets in away_2019_tweets:\n",
    "    for tw in tweets:\n",
    "        count_unigrams(tw,away_corpus)"
   ]
  },
  {
   "cell_type": "code",
   "execution_count": 8,
   "metadata": {},
   "outputs": [],
   "source": [
    "# remove words with <= 2 characters\n",
    "for key in list(home_corpus.keys()):\n",
    "    if len(key) <= 2:\n",
    "        del home_corpus[key]\n",
    "\n",
    "for key in list(away_corpus.keys()):\n",
    "    if len(key) <= 2:\n",
    "        del away_corpus[key]"
   ]
  },
  {
   "cell_type": "code",
   "execution_count": 9,
   "metadata": {},
   "outputs": [],
   "source": [
    "# get number of tweets for all home and away teams\n",
    "n_home_tweets = sum([len(game_tweets) for game_tweets in home_2019_tweets])\n",
    "n_away_tweets = sum([len(game_tweets) for game_tweets in away_2019_tweets])\n",
    "\n",
    "# get the unigrams that appear in at least 0.1% of home/away tweets\n",
    "home_top_grams = [word for word in home_corpus if home_corpus[word] > n_home_tweets*0.001]\n",
    "away_top_grams = [word for word in away_corpus if away_corpus[word] > n_away_tweets*0.001]"
   ]
  },
  {
   "cell_type": "code",
   "execution_count": 10,
   "metadata": {},
   "outputs": [],
   "source": [
    "# TRAIN SET\n",
    "#Create lists of vectors for home, away games\n",
    "num_h_tweets = [vectorize_list(game, home_top_grams) for game in home_2019_tweets]\n",
    "num_a_tweets = [vectorize_list(game, away_top_grams) for game in away_2019_tweets]\n",
    "\n",
    "#Turn into arrays\n",
    "home_vecs = np.array(num_h_tweets)\n",
    "away_vecs = np.array(num_a_tweets)\n",
    "\n",
    "#Concatenate home, away to form input matrix.\n",
    "X_train = np.concatenate([home_vecs, away_vecs], axis=1)\n",
    "\n",
    "# TEST SET\n",
    "#Create lists of vectors for home, away games\n",
    "num_h_tweets = [vectorize_list(game, home_top_grams) for game in home_2020_tweets]\n",
    "num_a_tweets = [vectorize_list(game, away_top_grams) for game in away_2020_tweets]\n",
    "\n",
    "#Turn into arrays\n",
    "home_vecs = np.array(num_h_tweets)\n",
    "away_vecs = np.array(num_a_tweets)\n",
    "\n",
    "#Concatenate home, away to form input matrix.\n",
    "X_test = np.concatenate([home_vecs, away_vecs], axis=1)\n",
    "\n",
    "# TRAIN and TEST outcomes\n",
    "Y_train = np.array(s2019[\"Home Win\"])\n",
    "Y_test = np.array(s2020[\"Home Win\"])"
   ]
  },
  {
   "cell_type": "code",
   "execution_count": 11,
   "metadata": {},
   "outputs": [
    {
     "name": "stdout",
     "output_type": "stream",
     "text": [
      "0.578125\n",
      "0.58203125\n",
      "0.625\n",
      "0.51953125\n",
      "0.55859375\n",
      "0.5703125\n"
     ]
    }
   ],
   "source": [
    "# Basic classifiers on full data\n",
    "lr = LogisticRegression(penalty=\"none\")\n",
    "lr.fit(X_train, Y_train)\n",
    "print(lr.score(X_test, Y_test))\n",
    "\n",
    "lrl1 = LogisticRegressionCV(cv=5,penalty=\"l1\",solver=\"liblinear\",\n",
    "                            max_iter=1000).fit(X_train, Y_train)\n",
    "lrl1.fit(X_train, Y_train)\n",
    "print(lrl1.score(X_test, Y_test))\n",
    "\n",
    "lrl2 = LogisticRegressionCV(cv=5,penalty=\"l2\",solver=\"liblinear\",\n",
    "                            max_iter=1000).fit(X_train, Y_train)\n",
    "lrl2.fit(X_train, Y_train)\n",
    "print(lrl2.score(X_test, Y_test))\n",
    "\n",
    "ada = AdaBoostClassifier(n_estimators=200)\n",
    "ada.fit(X_train, Y_train)\n",
    "print(ada.score(X_test, Y_test))\n",
    "\n",
    "rf = RandomForestClassifier(n_estimators=400)\n",
    "rf.fit(X_train, Y_train)\n",
    "print(rf.score(X_test, Y_test))\n",
    "\n",
    "gnb = GaussianNB().fit(X_train, Y_train)\n",
    "gnb.fit(X_train, Y_train)\n",
    "print(gnb.score(X_test, Y_test))"
   ]
  },
  {
   "cell_type": "code",
   "execution_count": 12,
   "metadata": {},
   "outputs": [
    {
     "name": "stdout",
     "output_type": "stream",
     "text": [
      "Epoch 1/20\n",
      "8/8 [==============================] - 0s 3ms/step - loss: 2.2759 - accuracy: 0.4258\n",
      "Epoch 2/20\n",
      "8/8 [==============================] - 0s 2ms/step - loss: 0.9886 - accuracy: 0.4763\n",
      "Epoch 3/20\n",
      "8/8 [==============================] - 0s 2ms/step - loss: 0.9141 - accuracy: 0.4894\n",
      "Epoch 4/20\n",
      "8/8 [==============================] - 0s 2ms/step - loss: 0.8531 - accuracy: 0.5539\n",
      "Epoch 5/20\n",
      "8/8 [==============================] - 0s 2ms/step - loss: 0.8679 - accuracy: 0.5088\n",
      "Epoch 6/20\n",
      "8/8 [==============================] - 0s 2ms/step - loss: 0.8680 - accuracy: 0.4990\n",
      "Epoch 7/20\n",
      "8/8 [==============================] - 0s 2ms/step - loss: 0.8562 - accuracy: 0.5489\n",
      "Epoch 8/20\n",
      "8/8 [==============================] - 0s 2ms/step - loss: 0.8539 - accuracy: 0.5325\n",
      "Epoch 9/20\n",
      "8/8 [==============================] - 0s 2ms/step - loss: 0.8538 - accuracy: 0.6232\n",
      "Epoch 10/20\n",
      "8/8 [==============================] - 0s 2ms/step - loss: 0.8468 - accuracy: 0.5291\n",
      "Epoch 11/20\n",
      "8/8 [==============================] - 0s 2ms/step - loss: 0.8436 - accuracy: 0.5236\n",
      "Epoch 12/20\n",
      "8/8 [==============================] - 0s 2ms/step - loss: 0.8348 - accuracy: 0.6078\n",
      "Epoch 13/20\n",
      "8/8 [==============================] - 0s 2ms/step - loss: 0.8255 - accuracy: 0.5306\n",
      "Epoch 14/20\n",
      "8/8 [==============================] - 0s 2ms/step - loss: 0.8229 - accuracy: 0.6961\n",
      "Epoch 15/20\n",
      "8/8 [==============================] - 0s 2ms/step - loss: 0.8079 - accuracy: 0.7662\n",
      "Epoch 16/20\n",
      "8/8 [==============================] - 0s 2ms/step - loss: 0.7780 - accuracy: 0.8071\n",
      "Epoch 17/20\n",
      "8/8 [==============================] - 0s 2ms/step - loss: 0.7510 - accuracy: 0.8073\n",
      "Epoch 18/20\n",
      "8/8 [==============================] - 0s 2ms/step - loss: 0.7333 - accuracy: 0.8563\n",
      "Epoch 19/20\n",
      "8/8 [==============================] - 0s 3ms/step - loss: 0.7101 - accuracy: 0.8475\n",
      "Epoch 20/20\n",
      "8/8 [==============================] - 0s 3ms/step - loss: 0.6877 - accuracy: 0.8711\n",
      "8/8 [==============================] - 0s 1ms/step - loss: 0.8178 - accuracy: 0.5781\n"
     ]
    },
    {
     "data": {
      "text/plain": [
       "[0.8177796602249146, 0.578125]"
      ]
     },
     "execution_count": 12,
     "metadata": {},
     "output_type": "execute_result"
    }
   ],
   "source": [
    "reg=1e-5\n",
    "model = Sequential()\n",
    "#model.add(Dense(1024, activation='tanh', kernel_regularizer=L1L2(reg), input_dim=X_train.shape[1]))\n",
    "#model.add(Dropout(.1))\n",
    "#model.add(Dense(512, activation='tanh',kernel_regularizer=L1L2(reg)))\n",
    "#model.add(Dropout(.1))\n",
    "model.add(Dense(256, activation='tanh',kernel_regularizer=L1L2(reg)))\n",
    "#model.add(Dropout(.1))\n",
    "#model.add(Dense(128, activation='tanh',kernel_regularizer=L1L2(reg)))\n",
    "#model.add(Dropout(.1))\n",
    "model.add(Dense(64, activation='tanh',kernel_regularizer=L1L2(reg)))\n",
    "#model.add(Dropout(.1))\n",
    "model.add(Dense(1, activation='sigmoid'))\n",
    "\n",
    "model.compile(optimizer='adam', \n",
    "              loss='binary_crossentropy', \n",
    "              metrics=['accuracy'])\n",
    "\n",
    "model.fit(X_train, Y_train, epochs=20, verbose=True)\n",
    "model.evaluate(X_test, Y_test)"
   ]
  },
  {
   "cell_type": "code",
   "execution_count": 13,
   "metadata": {},
   "outputs": [
    {
     "data": {
      "image/png": "[encoded data removed]",
      "text/plain": [
       "<Figure size 432x288 with 1 Axes>"
      ]
     },
     "metadata": {
      "needs_background": "light"
     },
     "output_type": "display_data"
    }
   ],
   "source": [
    "# Use PCA to reduce dimensions of X to n components\n",
    "n = 10\n",
    "pca = sklearn.decomposition.PCA(n_components=n)\n",
    "pca.fit(X_train)\n",
    "plt.bar(x=range(n),height=pca.explained_variance_ratio_)\n",
    "reduced_X_train = pca.transform(X_train)\n",
    "reduced_X_test = pca.transform(X_test)"
   ]
  },
  {
   "cell_type": "code",
   "execution_count": 14,
   "metadata": {},
   "outputs": [
    {
     "name": "stdout",
     "output_type": "stream",
     "text": [
      "0.60546875\n",
      "0.58984375\n",
      "0.609375\n",
      "0.546875\n",
      "0.61328125\n",
      "0.52734375\n"
     ]
    }
   ],
   "source": [
    "# Basic classifiers on reduced data\n",
    "lr = LogisticRegression()\n",
    "lr.fit(reduced_X_train, Y_train)\n",
    "print(lr.score(reduced_X_test, Y_test))\n",
    "\n",
    "lrl1 = LogisticRegressionCV(cv=5,penalty=\"l1\",solver=\"liblinear\",\n",
    "                            max_iter=1000).fit(reduced_X_train, Y_train)\n",
    "lrl1.fit(reduced_X_train, Y_train)\n",
    "print(lrl1.score(reduced_X_test, Y_test))\n",
    "\n",
    "lrl2 = LogisticRegressionCV(cv=5,penalty=\"l2\",solver=\"liblinear\",\n",
    "                            max_iter=1000).fit(reduced_X_train, Y_train)\n",
    "lrl2.fit(reduced_X_train, Y_train)\n",
    "print(lrl2.score(reduced_X_test, Y_test))\n",
    "\n",
    "ada = AdaBoostClassifier(n_estimators=200)\n",
    "ada.fit(reduced_X_train, Y_train)\n",
    "print(ada.score(reduced_X_test, Y_test))\n",
    "\n",
    "rf = RandomForestClassifier(n_estimators=400)\n",
    "rf.fit(reduced_X_train, Y_train)\n",
    "print(rf.score(reduced_X_test, Y_test))\n",
    "\n",
    "gnb = GaussianNB().fit(reduced_X_train, Y_train)\n",
    "gnb.fit(reduced_X_train, Y_train)\n",
    "print(gnb.score(reduced_X_test, Y_test))"
   ]
  },
  {
   "cell_type": "code",
   "execution_count": 15,
   "metadata": {},
   "outputs": [
    {
     "name": "stdout",
     "output_type": "stream",
     "text": [
      "Epoch 1/20\n",
      "8/8 [==============================] - 0s 1ms/step - loss: 0.7532 - accuracy: 0.5846\n",
      "Epoch 2/20\n",
      "8/8 [==============================] - 0s 879us/step - loss: 0.6389 - accuracy: 0.6085\n",
      "Epoch 3/20\n",
      "8/8 [==============================] - 0s 859us/step - loss: 0.6121 - accuracy: 0.6889\n",
      "Epoch 4/20\n",
      "8/8 [==============================] - 0s 854us/step - loss: 0.6029 - accuracy: 0.6467\n",
      "Epoch 5/20\n",
      "8/8 [==============================] - 0s 863us/step - loss: 0.5531 - accuracy: 0.7268\n",
      "Epoch 6/20\n",
      "8/8 [==============================] - 0s 866us/step - loss: 0.5138 - accuracy: 0.7649\n",
      "Epoch 7/20\n",
      "8/8 [==============================] - 0s 810us/step - loss: 0.5136 - accuracy: 0.7888\n",
      "Epoch 8/20\n",
      "8/8 [==============================] - 0s 878us/step - loss: 0.4881 - accuracy: 0.8176\n",
      "Epoch 9/20\n",
      "8/8 [==============================] - 0s 834us/step - loss: 0.4439 - accuracy: 0.8254\n",
      "Epoch 10/20\n",
      "8/8 [==============================] - 0s 832us/step - loss: 0.4454 - accuracy: 0.8393\n",
      "Epoch 11/20\n",
      "8/8 [==============================] - 0s 819us/step - loss: 0.4247 - accuracy: 0.8725\n",
      "Epoch 12/20\n",
      "8/8 [==============================] - 0s 857us/step - loss: 0.4040 - accuracy: 0.8853\n",
      "Epoch 13/20\n",
      "8/8 [==============================] - 0s 836us/step - loss: 0.3896 - accuracy: 0.8611\n",
      "Epoch 14/20\n",
      "8/8 [==============================] - 0s 853us/step - loss: 0.3769 - accuracy: 0.9137\n",
      "Epoch 15/20\n",
      "8/8 [==============================] - 0s 888us/step - loss: 0.3568 - accuracy: 0.9334\n",
      "Epoch 16/20\n",
      "8/8 [==============================] - 0s 909us/step - loss: 0.3426 - accuracy: 0.8885\n",
      "Epoch 17/20\n",
      "8/8 [==============================] - 0s 851us/step - loss: 0.3284 - accuracy: 0.9116\n",
      "Epoch 18/20\n",
      "8/8 [==============================] - 0s 880us/step - loss: 0.3239 - accuracy: 0.9135\n",
      "Epoch 19/20\n",
      "8/8 [==============================] - 0s 851us/step - loss: 0.2873 - accuracy: 0.9292\n",
      "Epoch 20/20\n",
      "8/8 [==============================] - 0s 826us/step - loss: 0.2984 - accuracy: 0.9490\n",
      "8/8 [==============================] - 0s 813us/step - loss: 0.7699 - accuracy: 0.5469\n"
     ]
    },
    {
     "data": {
      "text/plain": [
       "[0.7698532938957214, 0.546875]"
      ]
     },
     "execution_count": 15,
     "metadata": {},
     "output_type": "execute_result"
    }
   ],
   "source": [
    "reg=1e-5\n",
    "model = Sequential()\n",
    "#model.add(Dense(1024, activation='tanh', kernel_regularizer=L1L2(reg), input_dim=reduced_X_train.shape[1]))\n",
    "#model.add(Dropout(.1))\n",
    "#model.add(Dense(512, activation='tanh',kernel_regularizer=L1L2(reg)))\n",
    "#model.add(Dropout(.1))\n",
    "model.add(Dense(256, activation='tanh',kernel_regularizer=L1L2(reg)))\n",
    "#model.add(Dropout(.1))\n",
    "#model.add(Dense(128, activation='tanh',kernel_regularizer=L1L2(reg)))\n",
    "#model.add(Dropout(.1))\n",
    "model.add(Dense(64, activation='tanh',kernel_regularizer=L1L2(reg)))\n",
    "#model.add(Dropout(.1))\n",
    "model.add(Dense(1, activation='sigmoid'))\n",
    "\n",
    "model.compile(optimizer='adam', \n",
    "              loss='binary_crossentropy', \n",
    "              metrics=['accuracy'])\n",
    "\n",
    "model.fit(reduced_X_train, Y_train, epochs=20, verbose=True)\n",
    "model.evaluate(reduced_X_test, Y_test)"
   ]
  }
 ],
 "metadata": {
  "kernelspec": {
   "display_name": "Python 3",
   "language": "python",
   "name": "python3"
  },
  "language_info": {
   "codemirror_mode": {
    "name": "ipython",
    "version": 3
   },
   "file_extension": ".py",
   "mimetype": "text/x-python",
   "name": "python",
   "nbconvert_exporter": "python",
   "pygments_lexer": "ipython3",
   "version": "3.8.5"
  }
 },
 "nbformat": 4,
 "nbformat_minor": 4
}
