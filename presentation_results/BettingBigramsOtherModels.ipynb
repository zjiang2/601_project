{
 "cells": [
  {
   "cell_type": "code",
   "execution_count": 1,
   "metadata": {},
   "outputs": [],
   "source": [
    "import snscrape.modules.twitter as sntwitter\n",
    "import pandas as pd\n",
    "import numpy as np\n",
    "import re\n",
    "import datetime\n",
    "import pickle\n",
    "import nltk\n",
    "import sklearn\n",
    "import matplotlib.pyplot as plt\n",
    "import string\n",
    "from nltk.stem import WordNetLemmatizer\n",
    "from nltk.corpus import stopwords\n",
    "\n",
    "from sklearn.linear_model import LogisticRegression\n",
    "from sklearn.linear_model import LogisticRegressionCV\n",
    "from sklearn.ensemble import AdaBoostClassifier\n",
    "from sklearn.tree import DecisionTreeClassifier\n",
    "from sklearn.ensemble import RandomForestClassifier\n",
    "from sklearn.neural_network import MLPClassifier\n",
    "from sklearn.naive_bayes import GaussianNB\n",
    "\n",
    "import keras\n",
    "from keras.models import Sequential\n",
    "from keras.layers import Dense\n",
    "from keras.utils import to_categorical\n",
    "from keras.layers import *\n",
    "from keras.regularizers import l1,l2, L1L2"
   ]
  },
  {
   "cell_type": "code",
   "execution_count": 2,
   "metadata": {},
   "outputs": [],
   "source": [
    "seed_value = 273958\n",
    "import os\n",
    "os.environ['PYTHONHASHSEED']=str(seed_value)\n",
    "import random\n",
    "import numpy as np\n",
    "np.random.seed(seed_value)\n",
    "import tensorflow as tf\n",
    "tf.random.set_seed(seed_value)"
   ]
  },
  {
   "cell_type": "code",
   "execution_count": 3,
   "metadata": {},
   "outputs": [],
   "source": [
    "# load in tweets\n",
    "with open('../data/pickled_tweets/home_2019_3daysback_nolikecriterion.pkl', 'rb') as f:\n",
    "    home_2019_tweets = pickle.load(f)\n",
    "with open('../data/pickled_tweets/away_2019_3daysback_nolikecriterion.pkl', 'rb') as f:\n",
    "    away_2019_tweets = pickle.load(f)\n",
    "with open('../data/pickled_tweets/home_2020_3daysback_nolikecriterion.pkl', 'rb') as f:\n",
    "    home_2020_tweets = pickle.load(f)\n",
    "with open('../data/pickled_tweets/away_2020_3daysback_nolikecriterion.pkl', 'rb') as f:\n",
    "    away_2020_tweets = pickle.load(f)\n",
    "\n",
    "# load in nfl data\n",
    "s2020 = pd.read_csv('../data/season_data/2020_all_data.csv', index_col=0)\n",
    "s2019 = pd.read_csv('../data/season_data/2019_all_data.csv', index_col=0)\n",
    "\n",
    "# load in nfl data\n",
    "s2020b = pd.read_csv('../data/season_data/2020_with_betting.csv', index_col=0)\n",
    "s2019b = pd.read_csv('../data/season_data/2019_with_betting.csv', index_col=0)"
   ]
  },
  {
   "cell_type": "code",
   "execution_count": 4,
   "metadata": {},
   "outputs": [],
   "source": [
    "sw = stopwords.words('english')\n",
    "\n",
    "# lemmatize function\n",
    "def lemmatize(sentence, include_stopwords=False):\n",
    "    if include_stopwords:\n",
    "        return [WordNetLemmatizer().lemmatize(word) for word in sentence]\n",
    "    return [WordNetLemmatizer().lemmatize(word) for word in sentence if word not in sw]\n",
    "\n",
    "# preprocess the tweets - remove punctuation and lemmatize\n",
    "def preprocess(tweets):\n",
    "    for i in range(len(tweets)):\n",
    "        for j in range(len(tweets[i])):\n",
    "            tweets[i][j] = re.sub('[^a-zA-Z]',' ',tweets[i][j]).split()\n",
    "            tweets[i][j] = lemmatize(tweets[i][j])\n",
    "\n",
    "preprocess(home_2019_tweets)\n",
    "preprocess(away_2019_tweets)\n",
    "preprocess(home_2020_tweets)\n",
    "preprocess(away_2020_tweets)"
   ]
  },
  {
   "cell_type": "code",
   "execution_count": 5,
   "metadata": {},
   "outputs": [],
   "source": [
    "from collections import Counter\n",
    "def vectorize_list(list_of_tweets, corpus):\n",
    "    num_tweets = len(list_of_tweets)\n",
    "    lol = [nltk.bigrams(x) for x in list_of_tweets]\n",
    "    with_repeats = [item for sublist in lol for item in sublist]\n",
    "    counts = dict(Counter(with_repeats))\n",
    "    to_return = []\n",
    "    for key in corpus:\n",
    "        num = np.log(1+counts[key]) if key in counts else 0\n",
    "        to_return.append(num)\n",
    "    return to_return"
   ]
  },
  {
   "cell_type": "code",
   "execution_count": 6,
   "metadata": {},
   "outputs": [],
   "source": [
    "# count bigrams\n",
    "def count_bigrams(tweet,corpus):\n",
    "    bigramized_tweet = nltk.bigrams(tweet)\n",
    "    for bigram in bigramized_tweet:\n",
    "        if bigram in corpus:\n",
    "            corpus[bigram] += 1\n",
    "        else:\n",
    "            corpus[bigram] = 1"
   ]
  },
  {
   "cell_type": "code",
   "execution_count": 7,
   "metadata": {},
   "outputs": [],
   "source": [
    "#Create the home/away corpus\n",
    "home_corpus = {}\n",
    "away_corpus = {}\n",
    "for tweets in home_2019_tweets:\n",
    "    for tw in tweets:\n",
    "        count_bigrams(tw,home_corpus)\n",
    "\n",
    "for tweets in away_2019_tweets:\n",
    "    for tw in tweets:\n",
    "        count_bigrams(tw,away_corpus)"
   ]
  },
  {
   "cell_type": "code",
   "execution_count": 8,
   "metadata": {},
   "outputs": [],
   "source": [
    "# get number of tweets for all home and away teams\n",
    "n_home_tweets = sum([len(game_tweets) for game_tweets in home_2019_tweets])\n",
    "n_away_tweets = sum([len(game_tweets) for game_tweets in away_2019_tweets])\n",
    "\n",
    "# get the unigrams that appear in at least 0.1% of home/away tweets\n",
    "home_top_grams = [word for word in home_corpus if home_corpus[word] > n_home_tweets*0.0001]\n",
    "away_top_grams = [word for word in away_corpus if away_corpus[word] > n_away_tweets*0.0001]"
   ]
  },
  {
   "cell_type": "code",
   "execution_count": 9,
   "metadata": {},
   "outputs": [],
   "source": [
    "# TRAIN SET\n",
    "#Create lists of vectors for home, away games\n",
    "num_h_tweets = [vectorize_list(game, home_top_grams) for game in home_2019_tweets]\n",
    "num_a_tweets = [vectorize_list(game, away_top_grams) for game in away_2019_tweets]\n",
    "\n",
    "#Turn into arrays\n",
    "home_vecs = np.array(num_h_tweets)\n",
    "away_vecs = np.array(num_a_tweets)\n",
    "\n",
    "#Add in money lines\n",
    "home_ml = s2019b['Home ML'].values.reshape(-1,1)\n",
    "away_ml = s2019b['Away ML'].values.reshape(-1,1)\n",
    "\n",
    "#Concatenate home, away to form input matrix.\n",
    "X_train = np.concatenate([home_ml, home_vecs, away_ml, away_vecs], axis=1)\n",
    "\n",
    "# TEST SET\n",
    "#Create lists of vectors for home, away games\n",
    "num_h_tweets = [vectorize_list(game, home_top_grams) for game in home_2020_tweets]\n",
    "num_a_tweets = [vectorize_list(game, away_top_grams) for game in away_2020_tweets]\n",
    "\n",
    "#Turn into arrays\n",
    "home_vecs = np.array(num_h_tweets)\n",
    "away_vecs = np.array(num_a_tweets)\n",
    "\n",
    "#Add in money lines\n",
    "home_ml = s2020b['Home ML'].values.reshape(-1,1)\n",
    "away_ml = s2020b['Away ML'].values.reshape(-1,1)\n",
    "\n",
    "#Concatenate home, away to form input matrix.\n",
    "X_test = np.concatenate([home_ml, home_vecs, away_ml, away_vecs], axis=1)\n",
    "\n",
    "# TRAIN and TEST outcomes\n",
    "Y_train = np.array(s2019b[\"Home Win\"])\n",
    "Y_test = np.array(s2020b[\"Home Win\"])"
   ]
  },
  {
   "cell_type": "code",
   "execution_count": 14,
   "metadata": {},
   "outputs": [
    {
     "name": "stdout",
     "output_type": "stream",
     "text": [
      "0.6796875\n",
      "0.68359375\n",
      "0.68359375\n",
      "0.62109375\n",
      "0.64453125\n",
      "0.56640625\n"
     ]
    }
   ],
   "source": [
    "# Basic classifiers on full data\n",
    "lr = LogisticRegression(penalty=\"l1\",solver=\"liblinear\",C=0.1)\n",
    "lr.fit(X_train, Y_train)\n",
    "print(lr.score(X_test, Y_test))\n",
    "\n",
    "lrl1 = LogisticRegressionCV(cv=5,penalty=\"l1\",solver=\"liblinear\",\n",
    "                            max_iter=1000).fit(X_train, Y_train)\n",
    "lrl1.fit(X_train, Y_train)\n",
    "print(lrl1.score(X_test, Y_test))\n",
    "\n",
    "lrl2 = LogisticRegressionCV(cv=5,penalty=\"l2\",solver=\"liblinear\",\n",
    "                            max_iter=1000).fit(X_train, Y_train)\n",
    "lrl2.fit(X_train, Y_train)\n",
    "print(lrl2.score(X_test, Y_test))\n",
    "\n",
    "ada = AdaBoostClassifier(n_estimators=200)\n",
    "ada.fit(X_train, Y_train)\n",
    "print(ada.score(X_test, Y_test))\n",
    "\n",
    "rf = RandomForestClassifier(n_estimators=400)\n",
    "rf.fit(X_train, Y_train)\n",
    "print(rf.score(X_test, Y_test))\n",
    "\n",
    "gnb = GaussianNB().fit(X_train, Y_train)\n",
    "gnb.fit(X_train, Y_train)\n",
    "print(gnb.score(X_test, Y_test))"
   ]
  },
  {
   "cell_type": "markdown",
   "metadata": {},
   "source": [
    "### Betting All Models"
   ]
  },
  {
   "cell_type": "code",
   "execution_count": 15,
   "metadata": {},
   "outputs": [
    {
     "data": {
      "text/plain": [
       "0.68359375"
      ]
     },
     "execution_count": 15,
     "metadata": {},
     "output_type": "execute_result"
    }
   ],
   "source": [
    "preds = np.where(X_test[:,0] < 0, 1, 0)\n",
    "1-np.count_nonzero(preds-Y_test)/len(Y_test)"
   ]
  },
  {
   "cell_type": "code",
   "execution_count": 16,
   "metadata": {},
   "outputs": [
    {
     "data": {
      "text/plain": [
       "13"
      ]
     },
     "execution_count": 16,
     "metadata": {},
     "output_type": "execute_result"
    }
   ],
   "source": [
    "model_preds = np.round(lr.predict(X_test)).astype('int')\n",
    "naive_preds = preds ##as defined above\n",
    "np.count_nonzero(model_preds.reshape(-1) - naive_preds) #Number of games where our model doesn't pick favorite"
   ]
  },
  {
   "cell_type": "code",
   "execution_count": 17,
   "metadata": {},
   "outputs": [],
   "source": [
    "betting_df = s2020b.copy()\n",
    "betting_df['My Preds'] = model_preds\n",
    "betting_df['Naive Preds'] = preds\n",
    "betting_df['Home Pick Payout'] = np.where((betting_df['Home Win'] == 1) & (betting_df['Home ML'] < 0), -10000/betting_df['Home ML'], -100)\n",
    "betting_df['Home Pick Payout'] = np.where((betting_df['Home Win'] == 1) & (betting_df['Home ML'] > 0), betting_df['Home ML'], betting_df['Home Pick Payout'])\n",
    "betting_df['Away Pick Payout'] = np.where((betting_df['Home Win'] == 0) & (betting_df['Away ML'] < 0), -10000/betting_df['Away ML'], -100)\n",
    "betting_df['Away Pick Payout'] = np.where((betting_df['Home Win'] == 0) & (betting_df['Away ML'] > 0), betting_df['Away ML'], betting_df['Away Pick Payout'])\n",
    "betting_df['My Preds Payout'] = np.where(betting_df['My Preds'] == 1, betting_df['Home Pick Payout'], betting_df['Away Pick Payout'])\n",
    "betting_df['Naive Preds Payout'] = np.where(betting_df['Naive Preds'] == 1, betting_df['Home Pick Payout'], betting_df['Away Pick Payout'])"
   ]
  },
  {
   "cell_type": "code",
   "execution_count": 18,
   "metadata": {},
   "outputs": [
    {
     "data": {
      "text/plain": [
       "(-589.9499790537835, -618.9233628737145)"
      ]
     },
     "execution_count": 18,
     "metadata": {},
     "output_type": "execute_result"
    }
   ],
   "source": [
    "np.sum(betting_df['My Preds Payout']), np.sum(betting_df['Naive Preds Payout'])"
   ]
  },
  {
   "cell_type": "code",
   "execution_count": 19,
   "metadata": {},
   "outputs": [
    {
     "data": {
      "text/plain": [
       "0"
      ]
     },
     "execution_count": 19,
     "metadata": {},
     "output_type": "execute_result"
    }
   ],
   "source": [
    "model_preds = np.round(lrl1.predict(X_test)).astype('int')\n",
    "naive_preds = preds ##as defined above\n",
    "np.count_nonzero(model_preds.reshape(-1) - naive_preds) #Number of games where our model doesn't pick favorite"
   ]
  },
  {
   "cell_type": "code",
   "execution_count": 20,
   "metadata": {},
   "outputs": [
    {
     "data": {
      "text/plain": [
       "8"
      ]
     },
     "execution_count": 20,
     "metadata": {},
     "output_type": "execute_result"
    }
   ],
   "source": [
    "model_preds = np.round(lrl2.predict(X_test)).astype('int')\n",
    "naive_preds = preds ##as defined above\n",
    "np.count_nonzero(model_preds.reshape(-1) - naive_preds) #Number of games where our model doesn't pick favorite"
   ]
  },
  {
   "cell_type": "code",
   "execution_count": 21,
   "metadata": {},
   "outputs": [
    {
     "data": {
      "text/plain": [
       "(-593.7022072177764, -618.9233628737145)"
      ]
     },
     "execution_count": 21,
     "metadata": {},
     "output_type": "execute_result"
    }
   ],
   "source": [
    "betting_df = s2020b.copy()\n",
    "betting_df['My Preds'] = model_preds\n",
    "betting_df['Naive Preds'] = preds\n",
    "betting_df['Home Pick Payout'] = np.where((betting_df['Home Win'] == 1) & (betting_df['Home ML'] < 0), -10000/betting_df['Home ML'], -100)\n",
    "betting_df['Home Pick Payout'] = np.where((betting_df['Home Win'] == 1) & (betting_df['Home ML'] > 0), betting_df['Home ML'], betting_df['Home Pick Payout'])\n",
    "betting_df['Away Pick Payout'] = np.where((betting_df['Home Win'] == 0) & (betting_df['Away ML'] < 0), -10000/betting_df['Away ML'], -100)\n",
    "betting_df['Away Pick Payout'] = np.where((betting_df['Home Win'] == 0) & (betting_df['Away ML'] > 0), betting_df['Away ML'], betting_df['Away Pick Payout'])\n",
    "betting_df['My Preds Payout'] = np.where(betting_df['My Preds'] == 1, betting_df['Home Pick Payout'], betting_df['Away Pick Payout'])\n",
    "betting_df['Naive Preds Payout'] = np.where(betting_df['Naive Preds'] == 1, betting_df['Home Pick Payout'], betting_df['Away Pick Payout'])\n",
    "np.sum(betting_df['My Preds Payout']), np.sum(betting_df['Naive Preds Payout'])"
   ]
  },
  {
   "cell_type": "code",
   "execution_count": 22,
   "metadata": {},
   "outputs": [
    {
     "data": {
      "text/plain": [
       "84"
      ]
     },
     "execution_count": 22,
     "metadata": {},
     "output_type": "execute_result"
    }
   ],
   "source": [
    "model_preds = np.round(ada.predict(X_test)).astype('int')\n",
    "naive_preds = preds ##as defined above\n",
    "np.count_nonzero(model_preds.reshape(-1) - naive_preds) #Number of games where our model doesn't pick favorite"
   ]
  },
  {
   "cell_type": "code",
   "execution_count": 23,
   "metadata": {},
   "outputs": [
    {
     "data": {
      "text/plain": [
       "(346.42261014431915, -618.9233628737145)"
      ]
     },
     "execution_count": 23,
     "metadata": {},
     "output_type": "execute_result"
    }
   ],
   "source": [
    "betting_df = s2020b.copy()\n",
    "betting_df['My Preds'] = model_preds\n",
    "betting_df['Naive Preds'] = preds\n",
    "betting_df['Home Pick Payout'] = np.where((betting_df['Home Win'] == 1) & (betting_df['Home ML'] < 0), -10000/betting_df['Home ML'], -100)\n",
    "betting_df['Home Pick Payout'] = np.where((betting_df['Home Win'] == 1) & (betting_df['Home ML'] > 0), betting_df['Home ML'], betting_df['Home Pick Payout'])\n",
    "betting_df['Away Pick Payout'] = np.where((betting_df['Home Win'] == 0) & (betting_df['Away ML'] < 0), -10000/betting_df['Away ML'], -100)\n",
    "betting_df['Away Pick Payout'] = np.where((betting_df['Home Win'] == 0) & (betting_df['Away ML'] > 0), betting_df['Away ML'], betting_df['Away Pick Payout'])\n",
    "betting_df['My Preds Payout'] = np.where(betting_df['My Preds'] == 1, betting_df['Home Pick Payout'], betting_df['Away Pick Payout'])\n",
    "betting_df['Naive Preds Payout'] = np.where(betting_df['Naive Preds'] == 1, betting_df['Home Pick Payout'], betting_df['Away Pick Payout'])\n",
    "np.sum(betting_df['My Preds Payout']), np.sum(betting_df['Naive Preds Payout'])"
   ]
  },
  {
   "cell_type": "code",
   "execution_count": 24,
   "metadata": {},
   "outputs": [
    {
     "data": {
      "text/plain": [
       "80"
      ]
     },
     "execution_count": 24,
     "metadata": {},
     "output_type": "execute_result"
    }
   ],
   "source": [
    "model_preds = np.round(rf.predict(X_test)).astype('int')\n",
    "naive_preds = preds ##as defined above\n",
    "np.count_nonzero(model_preds.reshape(-1) - naive_preds) #Number of games where our model doesn't pick favorite"
   ]
  },
  {
   "cell_type": "code",
   "execution_count": 25,
   "metadata": {},
   "outputs": [
    {
     "data": {
      "text/plain": [
       "(1621.2299133958174, -618.9233628737145)"
      ]
     },
     "execution_count": 25,
     "metadata": {},
     "output_type": "execute_result"
    }
   ],
   "source": [
    "betting_df = s2020b.copy()\n",
    "betting_df['My Preds'] = model_preds\n",
    "betting_df['Naive Preds'] = preds\n",
    "betting_df['Home Pick Payout'] = np.where((betting_df['Home Win'] == 1) & (betting_df['Home ML'] < 0), -10000/betting_df['Home ML'], -100)\n",
    "betting_df['Home Pick Payout'] = np.where((betting_df['Home Win'] == 1) & (betting_df['Home ML'] > 0), betting_df['Home ML'], betting_df['Home Pick Payout'])\n",
    "betting_df['Away Pick Payout'] = np.where((betting_df['Home Win'] == 0) & (betting_df['Away ML'] < 0), -10000/betting_df['Away ML'], -100)\n",
    "betting_df['Away Pick Payout'] = np.where((betting_df['Home Win'] == 0) & (betting_df['Away ML'] > 0), betting_df['Away ML'], betting_df['Away Pick Payout'])\n",
    "betting_df['My Preds Payout'] = np.where(betting_df['My Preds'] == 1, betting_df['Home Pick Payout'], betting_df['Away Pick Payout'])\n",
    "betting_df['Naive Preds Payout'] = np.where(betting_df['Naive Preds'] == 1, betting_df['Home Pick Payout'], betting_df['Away Pick Payout'])\n",
    "np.sum(betting_df['My Preds Payout']), np.sum(betting_df['Naive Preds Payout'])"
   ]
  },
  {
   "cell_type": "code",
   "execution_count": 35,
   "metadata": {},
   "outputs": [
    {
     "data": {
      "text/plain": [
       "0.05902315141835273"
      ]
     },
     "execution_count": 35,
     "metadata": {},
     "output_type": "execute_result"
    }
   ],
   "source": [
    "1510.99267630983/25600"
   ]
  },
  {
   "cell_type": "code",
   "execution_count": null,
   "metadata": {},
   "outputs": [],
   "source": []
  }
 ],
 "metadata": {
  "kernelspec": {
   "display_name": "Python 3",
   "language": "python",
   "name": "python3"
  },
  "language_info": {
   "codemirror_mode": {
    "name": "ipython",
    "version": 3
   },
   "file_extension": ".py",
   "mimetype": "text/x-python",
   "name": "python",
   "nbconvert_exporter": "python",
   "pygments_lexer": "ipython3",
   "version": "3.8.6"
  }
 },
 "nbformat": 4,
 "nbformat_minor": 4
}
