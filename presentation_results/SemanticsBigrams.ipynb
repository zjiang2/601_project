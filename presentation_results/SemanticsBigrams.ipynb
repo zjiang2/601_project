{
 "cells": [
  {
   "cell_type": "code",
   "execution_count": 1,
   "metadata": {},
   "outputs": [],
   "source": [
    "import snscrape.modules.twitter as sntwitter\n",
    "import pandas as pd\n",
    "import numpy as np\n",
    "import re\n",
    "import datetime\n",
    "import pickle\n",
    "import nltk\n",
    "import sklearn\n",
    "import matplotlib.pyplot as plt\n",
    "import string\n",
    "from nltk.stem import WordNetLemmatizer\n",
    "from nltk.corpus import stopwords\n",
    "\n",
    "from sklearn.linear_model import LogisticRegression\n",
    "from sklearn.linear_model import LogisticRegressionCV\n",
    "from sklearn.ensemble import AdaBoostClassifier\n",
    "from sklearn.tree import DecisionTreeClassifier\n",
    "from sklearn.ensemble import RandomForestClassifier\n",
    "from sklearn.neural_network import MLPClassifier\n",
    "from sklearn.naive_bayes import GaussianNB\n",
    "\n",
    "import keras\n",
    "from keras.models import Sequential\n",
    "from keras.layers import Dense\n",
    "from keras.utils import to_categorical\n",
    "from keras.layers import *\n",
    "from keras.regularizers import l1,l2, L1L2"
   ]
  },
  {
   "cell_type": "code",
   "execution_count": 2,
   "metadata": {},
   "outputs": [],
   "source": [
    "seed_value = 273958\n",
    "import os\n",
    "os.environ['PYTHONHASHSEED']=str(seed_value)\n",
    "import random\n",
    "import numpy as np\n",
    "np.random.seed(seed_value)\n",
    "import tensorflow as tf\n",
    "tf.random.set_seed(seed_value)"
   ]
  },
  {
   "cell_type": "code",
   "execution_count": 3,
   "metadata": {},
   "outputs": [],
   "source": [
    "# load in tweets\n",
    "with open('../data/pickled_tweets/home_2019_3daysback_nolikecriterion.pkl', 'rb') as f:\n",
    "    home_2019_tweets = pickle.load(f)\n",
    "with open('../data/pickled_tweets/away_2019_3daysback_nolikecriterion.pkl', 'rb') as f:\n",
    "    away_2019_tweets = pickle.load(f)\n",
    "with open('../data/pickled_tweets/home_2020_3daysback_nolikecriterion.pkl', 'rb') as f:\n",
    "    home_2020_tweets = pickle.load(f)\n",
    "with open('../data/pickled_tweets/away_2020_3daysback_nolikecriterion.pkl', 'rb') as f:\n",
    "    away_2020_tweets = pickle.load(f)\n",
    "\n",
    "# load in nfl data\n",
    "s2020 = pd.read_csv('../data/season_data/2020_all_data.csv', index_col=0)\n",
    "s2019 = pd.read_csv('../data/season_data/2019_all_data.csv', index_col=0)"
   ]
  },
  {
   "cell_type": "code",
   "execution_count": 4,
   "metadata": {},
   "outputs": [],
   "source": [
    "sw = stopwords.words('english')\n",
    "\n",
    "# lemmatize function\n",
    "def lemmatize(sentence, include_stopwords=False):\n",
    "    if include_stopwords:\n",
    "        return [WordNetLemmatizer().lemmatize(word) for word in sentence]\n",
    "    return [WordNetLemmatizer().lemmatize(word) for word in sentence if word not in sw]\n",
    "\n",
    "# preprocess the tweets - remove punctuation and lemmatize\n",
    "def preprocess(tweets):\n",
    "    for i in range(len(tweets)):\n",
    "        for j in range(len(tweets[i])):\n",
    "            tweets[i][j] = re.sub('[^a-zA-Z]',' ',tweets[i][j]).split()\n",
    "            tweets[i][j] = lemmatize(tweets[i][j])\n",
    "\n",
    "preprocess(home_2019_tweets)\n",
    "preprocess(away_2019_tweets)\n",
    "preprocess(home_2020_tweets)\n",
    "preprocess(away_2020_tweets)"
   ]
  },
  {
   "cell_type": "code",
   "execution_count": 5,
   "metadata": {},
   "outputs": [],
   "source": [
    "from collections import Counter\n",
    "def vectorize_list(list_of_tweets, corpus):\n",
    "    num_tweets = len(list_of_tweets)\n",
    "    lol = [nltk.bigrams(x) for x in list_of_tweets]\n",
    "    with_repeats = [item for sublist in lol for item in sublist]\n",
    "    counts = dict(Counter(with_repeats))\n",
    "    to_return = []\n",
    "    for key in corpus:\n",
    "        num = np.log(1+counts[key]) if key in counts else 0\n",
    "        to_return.append(num)\n",
    "    return to_return"
   ]
  },
  {
   "cell_type": "code",
   "execution_count": 6,
   "metadata": {},
   "outputs": [],
   "source": [
    "# count bigrams\n",
    "def count_bigrams(tweet,corpus):\n",
    "    bigramized_tweet = nltk.bigrams(tweet)\n",
    "    for bigram in bigramized_tweet:\n",
    "        if bigram in corpus:\n",
    "            corpus[bigram] += 1\n",
    "        else:\n",
    "            corpus[bigram] = 1"
   ]
  },
  {
   "cell_type": "code",
   "execution_count": 7,
   "metadata": {},
   "outputs": [],
   "source": [
    "#Create the home/away corpus\n",
    "home_corpus = {}\n",
    "away_corpus = {}\n",
    "for tweets in home_2019_tweets:\n",
    "    for tw in tweets:\n",
    "        count_bigrams(tw,home_corpus)\n",
    "\n",
    "for tweets in away_2019_tweets:\n",
    "    for tw in tweets:\n",
    "        count_bigrams(tw,away_corpus)"
   ]
  },
  {
   "cell_type": "code",
   "execution_count": 8,
   "metadata": {},
   "outputs": [],
   "source": [
    "stopwords = stopwords.words('english')"
   ]
  },
  {
   "cell_type": "code",
   "execution_count": 9,
   "metadata": {},
   "outputs": [],
   "source": [
    "# remove words with <= 2 characters, stopwords, hashtags\n",
    "for key in list(home_corpus.keys()):\n",
    "    if key[0] == 'http' or key[1] == 'http':\n",
    "        del home_corpus[key]\n",
    "\n",
    "for key in list(away_corpus.keys()):\n",
    "    if key[0] == 'http' or key[1] == 'http':\n",
    "        del away_corpus[key]"
   ]
  },
  {
   "cell_type": "code",
   "execution_count": 10,
   "metadata": {},
   "outputs": [],
   "source": [
    "# get number of tweets for all home and away teams\n",
    "n_home_tweets = sum([len(game_tweets) for game_tweets in home_2019_tweets])\n",
    "n_away_tweets = sum([len(game_tweets) for game_tweets in away_2019_tweets])\n",
    "\n",
    "# get the unigrams that appear in at least 0.1% of home/away tweets\n",
    "home_top_grams = [word for word in home_corpus if home_corpus[word] > n_home_tweets*0.0001]\n",
    "away_top_grams = [word for word in away_corpus if away_corpus[word] > n_away_tweets*0.0001]"
   ]
  },
  {
   "cell_type": "code",
   "execution_count": 11,
   "metadata": {},
   "outputs": [],
   "source": [
    "# TRAIN SET\n",
    "#Create lists of vectors for home, away games\n",
    "num_h_tweets = [vectorize_list(game, home_top_grams) for game in home_2019_tweets]\n",
    "num_a_tweets = [vectorize_list(game, away_top_grams) for game in away_2019_tweets]\n",
    "\n",
    "#Turn into arrays\n",
    "home_vecs = np.array(num_h_tweets)\n",
    "away_vecs = np.array(num_a_tweets)\n",
    "\n",
    "#Concatenate home, away to form input matrix.\n",
    "X_train = np.concatenate([home_vecs, away_vecs], axis=1)\n",
    "\n",
    "# TEST SET\n",
    "#Create lists of vectors for home, away games\n",
    "num_h_tweets = [vectorize_list(game, home_top_grams) for game in home_2020_tweets]\n",
    "num_a_tweets = [vectorize_list(game, away_top_grams) for game in away_2020_tweets]\n",
    "\n",
    "#Turn into arrays\n",
    "home_vecs = np.array(num_h_tweets)\n",
    "away_vecs = np.array(num_a_tweets)\n",
    "\n",
    "#Concatenate home, away to form input matrix.\n",
    "X_test = np.concatenate([home_vecs, away_vecs], axis=1)\n",
    "\n",
    "# TRAIN and TEST outcomes\n",
    "Y_train = np.array(s2019[\"Home Win\"])\n",
    "Y_test = np.array(s2020[\"Home Win\"])"
   ]
  },
  {
   "cell_type": "code",
   "execution_count": 12,
   "metadata": {},
   "outputs": [
    {
     "name": "stdout",
     "output_type": "stream",
     "text": [
      "0.56640625\n",
      "0.61328125\n",
      "0.6015625\n",
      "0.5546875\n",
      "0.6015625\n",
      "0.5234375\n"
     ]
    }
   ],
   "source": [
    "# Basic classifiers on full data\n",
    "lr = LogisticRegression(penalty=\"l1\",solver=\"liblinear\",C=0.1)\n",
    "lr.fit(X_train, Y_train)\n",
    "print(lr.score(X_test, Y_test))\n",
    "\n",
    "lrl1 = LogisticRegressionCV(cv=5,penalty=\"l1\",solver=\"liblinear\",\n",
    "                            max_iter=1000).fit(X_train, Y_train)\n",
    "lrl1.fit(X_train, Y_train)\n",
    "print(lrl1.score(X_test, Y_test))\n",
    "\n",
    "lrl2 = LogisticRegressionCV(cv=5,penalty=\"l2\",solver=\"liblinear\",\n",
    "                            max_iter=1000).fit(X_train, Y_train)\n",
    "lrl2.fit(X_train, Y_train)\n",
    "print(lrl2.score(X_test, Y_test))\n",
    "\n",
    "ada = AdaBoostClassifier(n_estimators=200)\n",
    "ada.fit(X_train, Y_train)\n",
    "print(ada.score(X_test, Y_test))\n",
    "\n",
    "rf = RandomForestClassifier(n_estimators=400)\n",
    "rf.fit(X_train, Y_train)\n",
    "print(rf.score(X_test, Y_test))\n",
    "\n",
    "gnb = GaussianNB().fit(X_train, Y_train)\n",
    "gnb.fit(X_train, Y_train)\n",
    "print(gnb.score(X_test, Y_test))"
   ]
  },
  {
   "cell_type": "markdown",
   "metadata": {},
   "source": [
    "### Sparse L1 Coefficients"
   ]
  },
  {
   "cell_type": "code",
   "execution_count": 13,
   "metadata": {},
   "outputs": [
    {
     "data": {
      "text/plain": [
       "26"
      ]
     },
     "execution_count": 13,
     "metadata": {},
     "output_type": "execute_result"
    }
   ],
   "source": [
    "len(np.where(lr.coef_ != 0)[1]) #sparsity of lr coefs"
   ]
  },
  {
   "cell_type": "code",
   "execution_count": 14,
   "metadata": {},
   "outputs": [
    {
     "data": {
      "text/plain": [
       "array([['first', 'time'],\n",
       "       ['thursday', 'night'],\n",
       "       ['super', 'bowl'],\n",
       "       ['con', 'el'],\n",
       "       ['wait', 'see'],\n",
       "       ['co', 'ryv'],\n",
       "       ['pro', 'bowl'],\n",
       "       ['josh', 'gordon'],\n",
       "       ['see', 'soon'],\n",
       "       ['ravensflock', 'ravensnation'],\n",
       "       ['injury', 'report'],\n",
       "       ['de', 'los'],\n",
       "       ['get', 'ready'],\n",
       "       ['key', 'matchup'],\n",
       "       ['next', 'year'],\n",
       "       ['kansa', 'city'],\n",
       "       ['practice', 'today'],\n",
       "       ['senior', 'night'],\n",
       "       ['yard', 'td'],\n",
       "       ['h', 'r'],\n",
       "       ['tampa', 'bay'],\n",
       "       ['chief', 'chiefskingdom'],\n",
       "       ['ravensflock', 'ravensnation'],\n",
       "       ['bengal', 'whodey'],\n",
       "       ['russell', 'wilson'],\n",
       "       ['chase', 'young']], dtype='<U24')"
      ]
     },
     "execution_count": 14,
     "metadata": {},
     "output_type": "execute_result"
    }
   ],
   "source": [
    "all_grams = np.array(home_top_grams + away_top_grams)\n",
    "all_grams[np.where(lr.coef_ != 0)[1]] #grams corresponding to nonzero entries"
   ]
  },
  {
   "cell_type": "code",
   "execution_count": 15,
   "metadata": {},
   "outputs": [
    {
     "data": {
      "text/plain": [
       "array([   33,    39,   103,   211,   321,   568,  1431,  2380,  3386,\n",
       "        6265,  7706,  8101,  8161,  8465,  8675,  8845,  8939,  9195,\n",
       "        9847, 10051, 11312, 11515, 11770, 11894, 11896, 12129])"
      ]
     },
     "execution_count": 15,
     "metadata": {},
     "output_type": "execute_result"
    }
   ],
   "source": [
    "np.where(lr.coef_ != 0)[1]"
   ]
  },
  {
   "cell_type": "code",
   "execution_count": 16,
   "metadata": {},
   "outputs": [],
   "source": [
    "signs = np.sign(np.take(lr.coef_, np.where(lr.coef_ != 0)[1])).reshape(-1,1)"
   ]
  },
  {
   "cell_type": "code",
   "execution_count": 17,
   "metadata": {},
   "outputs": [],
   "source": [
    "home_away = np.where(np.where(lr.coef_ != 0)[1] > len(home_top_grams), 'A', 'H').reshape(-1,1)"
   ]
  },
  {
   "cell_type": "code",
   "execution_count": 18,
   "metadata": {},
   "outputs": [
    {
     "data": {
      "text/plain": [
       "array([['first', 'time', '1.0', '33', 'H'],\n",
       "       ['thursday', 'night', '1.0', '39', 'H'],\n",
       "       ['super', 'bowl', '1.0', '103', 'H'],\n",
       "       ['con', 'el', '1.0', '211', 'H'],\n",
       "       ['wait', 'see', '1.0', '321', 'H'],\n",
       "       ['co', 'ryv', '1.0', '568', 'H'],\n",
       "       ['pro', 'bowl', '1.0', '1431', 'H'],\n",
       "       ['josh', 'gordon', '1.0', '2380', 'H'],\n",
       "       ['see', 'soon', '1.0', '3386', 'H'],\n",
       "       ['ravensflock', 'ravensnation', '1.0', '6265', 'H'],\n",
       "       ['injury', 'report', '-1.0', '7706', 'A'],\n",
       "       ['de', 'los', '-1.0', '8101', 'A'],\n",
       "       ['get', 'ready', '-1.0', '8161', 'A'],\n",
       "       ['key', 'matchup', '-1.0', '8465', 'A'],\n",
       "       ['next', 'year', '1.0', '8675', 'A'],\n",
       "       ['kansa', 'city', '-1.0', '8845', 'A'],\n",
       "       ['practice', 'today', '-1.0', '8939', 'A'],\n",
       "       ['senior', 'night', '1.0', '9195', 'A'],\n",
       "       ['yard', 'td', '-1.0', '9847', 'A'],\n",
       "       ['h', 'r', '-1.0', '10051', 'A'],\n",
       "       ['tampa', 'bay', '-1.0', '11312', 'A'],\n",
       "       ['chief', 'chiefskingdom', '-1.0', '11515', 'A'],\n",
       "       ['ravensflock', 'ravensnation', '-1.0', '11770', 'A'],\n",
       "       ['bengal', 'whodey', '1.0', '11894', 'A'],\n",
       "       ['russell', 'wilson', '-1.0', '11896', 'A'],\n",
       "       ['chase', 'young', '1.0', '12129', 'A']], dtype='<U32')"
      ]
     },
     "execution_count": 18,
     "metadata": {},
     "output_type": "execute_result"
    }
   ],
   "source": [
    "np.concatenate([all_grams[np.where(lr.coef_ != 0)[1]], signs, np.where(lr.coef_ != 0)[1].reshape(-1,1), home_away], axis=1)"
   ]
  },
  {
   "cell_type": "markdown",
   "metadata": {},
   "source": [
    "### Cross Validated L1"
   ]
  },
  {
   "cell_type": "code",
   "execution_count": 19,
   "metadata": {},
   "outputs": [
    {
     "data": {
      "text/plain": [
       "4539"
      ]
     },
     "execution_count": 19,
     "metadata": {},
     "output_type": "execute_result"
    }
   ],
   "source": [
    "len(np.where(lrl1.coef_ != 0)[1]) #sparsity of lr coefs"
   ]
  },
  {
   "cell_type": "code",
   "execution_count": 20,
   "metadata": {},
   "outputs": [
    {
     "data": {
      "text/plain": [
       "array([['win', 'st'],\n",
       "       ['knee', 'full'],\n",
       "       ['second', 'game'],\n",
       "       ['para', 'que'],\n",
       "       ['dfs', 'draftkings'],\n",
       "       ['claim', 'josh'],\n",
       "       ['rts', 'appreciated'],\n",
       "       ['kenny', 'moore'],\n",
       "       ['th', 'place'],\n",
       "       ['paying', 'attention'],\n",
       "       ['w', 'l'],\n",
       "       ['sport', 'falcon'],\n",
       "       ['former', 'pro'],\n",
       "       ['sex', 'bestselling'],\n",
       "       ['qb', 'league'],\n",
       "       ['free', 'throw'],\n",
       "       ['er', 'raven'],\n",
       "       ['david', 'njoku'],\n",
       "       ['team', 'ever'],\n",
       "       ['pay', 'attention']], dtype='<U24')"
      ]
     },
     "execution_count": 20,
     "metadata": {},
     "output_type": "execute_result"
    }
   ],
   "source": [
    "max_positives = np.argpartition(lrl1.coef_.reshape(-1), -20)[-20:]\n",
    "all_grams[max_positives]"
   ]
  },
  {
   "cell_type": "code",
   "execution_count": 21,
   "metadata": {},
   "outputs": [
    {
     "data": {
      "text/plain": [
       "array([['get', 'go'],\n",
       "       ['financial', 'insight'],\n",
       "       ['fan', 'wanted'],\n",
       "       ['whitney', 'mercilus'],\n",
       "       ['lesean', 'mccoy'],\n",
       "       ['ticket', 'promo'],\n",
       "       ['team', 'even'],\n",
       "       ['jjy', 'g'],\n",
       "       ['bengal', 'seizethedey'],\n",
       "       ['well', 'others'],\n",
       "       ['h', 'h'],\n",
       "       ['lot', 'fun'],\n",
       "       ['player', 'would'],\n",
       "       ['co', 'ao'],\n",
       "       ['time', 'come'],\n",
       "       ['fantasyfootball', 'week'],\n",
       "       ['excited', 'share'],\n",
       "       ['need', 'show'],\n",
       "       ['addition', 'etsy'],\n",
       "       ['co', 'um']], dtype='<U24')"
      ]
     },
     "execution_count": 21,
     "metadata": {},
     "output_type": "execute_result"
    }
   ],
   "source": [
    "max_negatives = np.argpartition(-1*lrl1.coef_.reshape(-1), -20)[-20:]\n",
    "all_grams[max_negatives]"
   ]
  },
  {
   "cell_type": "markdown",
   "metadata": {},
   "source": [
    "### Cross Validated L2"
   ]
  },
  {
   "cell_type": "code",
   "execution_count": 22,
   "metadata": {},
   "outputs": [
    {
     "data": {
      "text/plain": [
       "15315"
      ]
     },
     "execution_count": 22,
     "metadata": {},
     "output_type": "execute_result"
    }
   ],
   "source": [
    "len(np.where(lrl2.coef_ != 0)[1]) #sparsity of lr coefs"
   ]
  },
  {
   "cell_type": "code",
   "execution_count": 23,
   "metadata": {},
   "outputs": [
    {
     "data": {
      "text/plain": [
       "array([['mason', 'rudolph'],\n",
       "       ['bengal', 'whodey'],\n",
       "       ['thursday', 'night'],\n",
       "       ['first', 'time'],\n",
       "       ['chase', 'young'],\n",
       "       ['lo', 'que'],\n",
       "       ['de', 'la'],\n",
       "       ['josh', 'gordon'],\n",
       "       ['super', 'bowl'],\n",
       "       ['en', 'el'],\n",
       "       ['see', 'soon'],\n",
       "       ['f', 'r'],\n",
       "       ['wait', 'see'],\n",
       "       ['wr', 'josh'],\n",
       "       ['n', 'de'],\n",
       "       ['con', 'el'],\n",
       "       ['pro', 'bowl'],\n",
       "       ['de', 'los'],\n",
       "       ['ryv', 'edmr'],\n",
       "       ['co', 'ryv']], dtype='<U24')"
      ]
     },
     "execution_count": 23,
     "metadata": {},
     "output_type": "execute_result"
    }
   ],
   "source": [
    "max_positives = np.argpartition(lrl2.coef_.reshape(-1), -20)[-20:]\n",
    "all_grams = np.array(home_top_grams + away_top_grams)\n",
    "all_grams[max_positives]"
   ]
  },
  {
   "cell_type": "code",
   "execution_count": 24,
   "metadata": {},
   "outputs": [
    {
     "data": {
      "text/plain": [
       "array([['mason', 'rudolph', '1.0', '6972', 'H'],\n",
       "       ['bengal', 'whodey', '1.0', '11894', 'A'],\n",
       "       ['thursday', 'night', '1.0', '39', 'H'],\n",
       "       ['first', 'time', '1.0', '33', 'H'],\n",
       "       ['chase', 'young', '1.0', '12129', 'A'],\n",
       "       ['lo', 'que', '1.0', '1809', 'H'],\n",
       "       ['de', 'la', '1.0', '985', 'H'],\n",
       "       ['josh', 'gordon', '1.0', '2380', 'H'],\n",
       "       ['super', 'bowl', '1.0', '103', 'H'],\n",
       "       ['en', 'el', '1.0', '87', 'H'],\n",
       "       ['see', 'soon', '1.0', '3386', 'H'],\n",
       "       ['f', 'r', '1.0', '1947', 'H'],\n",
       "       ['wait', 'see', '1.0', '321', 'H'],\n",
       "       ['wr', 'josh', '1.0', '2090', 'H'],\n",
       "       ['n', 'de', '1.0', '213', 'H'],\n",
       "       ['con', 'el', '1.0', '211', 'H'],\n",
       "       ['pro', 'bowl', '1.0', '1431', 'H'],\n",
       "       ['de', 'los', '1.0', '208', 'H'],\n",
       "       ['ryv', 'edmr', '1.0', '569', 'H'],\n",
       "       ['co', 'ryv', '1.0', '568', 'H']], dtype='<U32')"
      ]
     },
     "execution_count": 24,
     "metadata": {},
     "output_type": "execute_result"
    }
   ],
   "source": [
    "signs = np.sign(np.take(lrl2.coef_, max_positives)).reshape(-1,1)\n",
    "home_away = np.where(max_positives > len(home_top_grams), 'A', 'H').reshape(-1,1)\n",
    "np.concatenate([all_grams[max_positives], signs, max_positives.reshape(-1,1), home_away], axis=1)"
   ]
  },
  {
   "cell_type": "code",
   "execution_count": 25,
   "metadata": {},
   "outputs": [
    {
     "data": {
      "text/plain": [
       "array([['er', 'goniners'],\n",
       "       ['tampa', 'bay'],\n",
       "       ['redskin', 'httr'],\n",
       "       ['player', 'week'],\n",
       "       ['saint', 'fan'],\n",
       "       ['good', 'thing'],\n",
       "       ['gohawks', 'seahawks'],\n",
       "       ['en', 'el'],\n",
       "       ['super', 'bowl'],\n",
       "       ['key', 'matchup'],\n",
       "       ['get', 'ready'],\n",
       "       ['yard', 'td'],\n",
       "       ['injury', 'report'],\n",
       "       ['practice', 'today'],\n",
       "       ['kansa', 'city'],\n",
       "       ['de', 'la'],\n",
       "       ['h', 'r'],\n",
       "       ['chief', 'chiefskingdom'],\n",
       "       ['russell', 'wilson'],\n",
       "       ['de', 'los']], dtype='<U24')"
      ]
     },
     "execution_count": 25,
     "metadata": {},
     "output_type": "execute_result"
    }
   ],
   "source": [
    "max_negatives = np.argpartition(-1*lrl2.coef_.reshape(-1), -20)[-20:]\n",
    "all_grams = np.array(home_top_grams + away_top_grams)\n",
    "all_grams[max_negatives]"
   ]
  },
  {
   "cell_type": "code",
   "execution_count": 26,
   "metadata": {},
   "outputs": [
    {
     "data": {
      "text/plain": [
       "array([['er', 'goniners', '-1.0', '12494', 'A'],\n",
       "       ['tampa', 'bay', '-1.0', '11312', 'A'],\n",
       "       ['redskin', 'httr', '-1.0', '3587', 'H'],\n",
       "       ['player', 'week', '-1.0', '10722', 'A'],\n",
       "       ['saint', 'fan', '-1.0', '10124', 'A'],\n",
       "       ['good', 'thing', '-1.0', '8336', 'A'],\n",
       "       ['gohawks', 'seahawks', '-1.0', '13483', 'A'],\n",
       "       ['en', 'el', '-1.0', '8300', 'A'],\n",
       "       ['super', 'bowl', '-1.0', '7681', 'A'],\n",
       "       ['key', 'matchup', '-1.0', '8465', 'A'],\n",
       "       ['get', 'ready', '-1.0', '8161', 'A'],\n",
       "       ['yard', 'td', '-1.0', '9847', 'A'],\n",
       "       ['injury', 'report', '-1.0', '7706', 'A'],\n",
       "       ['practice', 'today', '-1.0', '8939', 'A'],\n",
       "       ['kansa', 'city', '-1.0', '8845', 'A'],\n",
       "       ['de', 'la', '-1.0', '8121', 'A'],\n",
       "       ['h', 'r', '-1.0', '10051', 'A'],\n",
       "       ['chief', 'chiefskingdom', '-1.0', '11515', 'A'],\n",
       "       ['russell', 'wilson', '-1.0', '11896', 'A'],\n",
       "       ['de', 'los', '-1.0', '8101', 'A']], dtype='<U32')"
      ]
     },
     "execution_count": 26,
     "metadata": {},
     "output_type": "execute_result"
    }
   ],
   "source": [
    "signs = np.sign(np.take(lrl2.coef_, max_negatives)).reshape(-1,1)\n",
    "home_away = np.where(max_negatives > len(home_top_grams), 'A', 'H').reshape(-1,1)\n",
    "np.concatenate([all_grams[max_negatives], signs, max_negatives.reshape(-1,1), home_away], axis=1)"
   ]
  },
  {
   "cell_type": "code",
   "execution_count": null,
   "metadata": {},
   "outputs": [],
   "source": []
  }
 ],
 "metadata": {
  "kernelspec": {
   "display_name": "Python 3",
   "language": "python",
   "name": "python3"
  },
  "language_info": {
   "codemirror_mode": {
    "name": "ipython",
    "version": 3
   },
   "file_extension": ".py",
   "mimetype": "text/x-python",
   "name": "python",
   "nbconvert_exporter": "python",
   "pygments_lexer": "ipython3",
   "version": "3.8.6"
  }
 },
 "nbformat": 4,
 "nbformat_minor": 4
}
