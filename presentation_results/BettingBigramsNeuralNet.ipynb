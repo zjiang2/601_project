{
 "cells": [
  {
   "cell_type": "code",
   "execution_count": 1,
   "metadata": {},
   "outputs": [],
   "source": [
    "import snscrape.modules.twitter as sntwitter\n",
    "import pandas as pd\n",
    "import numpy as np\n",
    "import re\n",
    "import datetime\n",
    "import pickle\n",
    "import nltk"
   ]
  },
  {
   "cell_type": "markdown",
   "metadata": {},
   "source": [
    "### Set seed."
   ]
  },
  {
   "cell_type": "code",
   "execution_count": 2,
   "metadata": {},
   "outputs": [],
   "source": [
    "seed_value = 273958\n",
    "import os\n",
    "os.environ['PYTHONHASHSEED']=str(seed_value)\n",
    "import random\n",
    "import numpy as np\n",
    "np.random.seed(seed_value)\n",
    "import tensorflow as tf\n",
    "tf.random.set_seed(seed_value)"
   ]
  },
  {
   "cell_type": "code",
   "execution_count": 3,
   "metadata": {},
   "outputs": [],
   "source": [
    "import sklearn\n",
    "import matplotlib.pyplot as plt\n",
    "import string\n",
    "from nltk.stem import WordNetLemmatizer\n",
    "from nltk.corpus import stopwords\n",
    "\n",
    "from sklearn.linear_model import LogisticRegression\n",
    "from sklearn.ensemble import AdaBoostClassifier\n",
    "from sklearn.tree import DecisionTreeClassifier\n",
    "from sklearn.ensemble import RandomForestClassifier\n",
    "from sklearn.neural_network import MLPClassifier\n",
    "from sklearn.naive_bayes import GaussianNB\n",
    "\n",
    "import keras\n",
    "from keras.models import Sequential\n",
    "from keras.layers import Dense\n",
    "from keras.utils import to_categorical\n",
    "from keras.layers import *\n",
    "from keras.regularizers import l1,l2, L1L2"
   ]
  },
  {
   "cell_type": "markdown",
   "metadata": {},
   "source": [
    "### Process data."
   ]
  },
  {
   "cell_type": "code",
   "execution_count": 4,
   "metadata": {},
   "outputs": [],
   "source": [
    "# load in tweets\n",
    "with open('../data/pickled_tweets/home_2019_3daysback_nolikecriterion.pkl', 'rb') as f:\n",
    "    home_2019_tweets = pickle.load(f)\n",
    "with open('../data/pickled_tweets/away_2019_3daysback_nolikecriterion.pkl', 'rb') as f:\n",
    "    away_2019_tweets = pickle.load(f)\n",
    "with open('../data/pickled_tweets/home_2020_3daysback_nolikecriterion.pkl', 'rb') as f:\n",
    "    home_2020_tweets = pickle.load(f)\n",
    "with open('../data/pickled_tweets/away_2020_3daysback_nolikecriterion.pkl', 'rb') as f:\n",
    "    away_2020_tweets = pickle.load(f)\n",
    "\n",
    "# load in nfl data\n",
    "s2020 = pd.read_csv('../data/season_data/2020_all_data.csv', index_col=0)\n",
    "s2019 = pd.read_csv('../data/season_data/2019_all_data.csv', index_col=0)\n",
    "\n",
    "# load in nfl data\n",
    "s2020b = pd.read_csv('../data/season_data/2020_with_betting.csv', index_col=0)\n",
    "s2019b = pd.read_csv('../data/season_data/2019_with_betting.csv', index_col=0)"
   ]
  },
  {
   "cell_type": "code",
   "execution_count": 5,
   "metadata": {},
   "outputs": [],
   "source": [
    "sw = stopwords.words('english')\n",
    "\n",
    "# lemmatize function\n",
    "def lemmatize(sentence, include_stopwords=False):\n",
    "    if include_stopwords:\n",
    "        return [WordNetLemmatizer().lemmatize(word) for word in sentence]\n",
    "    return [WordNetLemmatizer().lemmatize(word) for word in sentence if word not in sw]\n",
    "\n",
    "# preprocess the tweets - remove punctuation and lemmatize\n",
    "def preprocess(tweets):\n",
    "    for i in range(len(tweets)):\n",
    "        for j in range(len(tweets[i])):\n",
    "            tweets[i][j] = re.sub('[^a-zA-Z]',' ',tweets[i][j]).split()\n",
    "            tweets[i][j] = lemmatize(tweets[i][j])\n",
    "\n",
    "preprocess(home_2019_tweets)\n",
    "preprocess(away_2019_tweets)\n",
    "preprocess(home_2020_tweets)\n",
    "preprocess(away_2020_tweets)"
   ]
  },
  {
   "cell_type": "code",
   "execution_count": 6,
   "metadata": {},
   "outputs": [],
   "source": [
    "from collections import Counter\n",
    "def vectorize_list(list_of_tweets, corpus):\n",
    "    num_tweets = len(list_of_tweets)\n",
    "    lol = [nltk.bigrams(x) for x in list_of_tweets]\n",
    "    with_repeats = [item for sublist in lol for item in sublist]\n",
    "    counts = dict(Counter(with_repeats))\n",
    "    to_return = []\n",
    "    for key in corpus:\n",
    "        num = np.log(1+counts[key]) if key in counts else 0\n",
    "        to_return.append(num)\n",
    "    return to_return"
   ]
  },
  {
   "cell_type": "code",
   "execution_count": 7,
   "metadata": {},
   "outputs": [],
   "source": [
    "# count bigrams\n",
    "def count_bigrams(tweet,corpus):\n",
    "    bigramized_tweet = nltk.bigrams(tweet)\n",
    "    for bigram in bigramized_tweet:\n",
    "        if bigram in corpus:\n",
    "            corpus[bigram] += 1\n",
    "        else:\n",
    "            corpus[bigram] = 1"
   ]
  },
  {
   "cell_type": "code",
   "execution_count": 8,
   "metadata": {},
   "outputs": [],
   "source": [
    "#Create the home/away corpus\n",
    "home_corpus = {}\n",
    "away_corpus = {}\n",
    "for tweets in home_2019_tweets:\n",
    "    for tw in tweets:\n",
    "        count_bigrams(tw,home_corpus)\n",
    "\n",
    "for tweets in away_2019_tweets:\n",
    "    for tw in tweets:\n",
    "        count_bigrams(tw,away_corpus)"
   ]
  },
  {
   "cell_type": "code",
   "execution_count": 9,
   "metadata": {},
   "outputs": [],
   "source": [
    "# get number of tweets for all home and away teams\n",
    "n_home_tweets = sum([len(game_tweets) for game_tweets in home_2019_tweets])\n",
    "n_away_tweets = sum([len(game_tweets) for game_tweets in away_2019_tweets])\n",
    "\n",
    "# get the unigrams that appear in at least 0.1% of home/away tweets\n",
    "home_top_grams = [word for word in home_corpus if home_corpus[word] > n_home_tweets*0.0001]\n",
    "away_top_grams = [word for word in away_corpus if away_corpus[word] > n_away_tweets*0.0001]"
   ]
  },
  {
   "cell_type": "code",
   "execution_count": 10,
   "metadata": {},
   "outputs": [],
   "source": [
    "# TRAIN SET\n",
    "#Create lists of vectors for home, away games\n",
    "num_h_tweets = [vectorize_list(game, home_top_grams) for game in home_2019_tweets]\n",
    "num_a_tweets = [vectorize_list(game, away_top_grams) for game in away_2019_tweets]\n",
    "\n",
    "#Turn into arrays\n",
    "home_vecs = np.array(num_h_tweets)\n",
    "away_vecs = np.array(num_a_tweets)\n",
    "\n",
    "#Add in money lines\n",
    "home_ml = s2019b['Home ML'].values.reshape(-1,1)\n",
    "away_ml = s2019b['Away ML'].values.reshape(-1,1)\n",
    "\n",
    "#Concatenate home, away to form input matrix.\n",
    "X_train = np.concatenate([home_ml, home_vecs, away_ml, away_vecs], axis=1)"
   ]
  },
  {
   "cell_type": "code",
   "execution_count": 11,
   "metadata": {},
   "outputs": [],
   "source": [
    "# TEST SET\n",
    "#Create lists of vectors for home, away games\n",
    "num_h_tweets = [vectorize_list(game, home_top_grams) for game in home_2020_tweets]\n",
    "num_a_tweets = [vectorize_list(game, away_top_grams) for game in away_2020_tweets]\n",
    "\n",
    "#Turn into arrays\n",
    "home_vecs = np.array(num_h_tweets)\n",
    "away_vecs = np.array(num_a_tweets)\n",
    "\n",
    "#Add in money lines\n",
    "home_ml = s2020b['Home ML'].values.reshape(-1,1)\n",
    "away_ml = s2020b['Away ML'].values.reshape(-1,1)\n",
    "\n",
    "#Concatenate home, away to form input matrix.\n",
    "X_test = np.concatenate([home_ml, home_vecs, away_ml, away_vecs], axis=1)"
   ]
  },
  {
   "cell_type": "code",
   "execution_count": 12,
   "metadata": {},
   "outputs": [],
   "source": [
    "# TRAIN and TEST outcomes\n",
    "Y_train = np.array(s2019b[\"Home Win\"])\n",
    "Y_test = np.array(s2020b[\"Home Win\"])"
   ]
  },
  {
   "cell_type": "markdown",
   "metadata": {},
   "source": [
    "### Neural Net Prediction - no dimensionality reduction."
   ]
  },
  {
   "cell_type": "code",
   "execution_count": 13,
   "metadata": {},
   "outputs": [
    {
     "name": "stdout",
     "output_type": "stream",
     "text": [
      "Epoch 1/50\n",
      "8/8 [==============================] - 2s 107ms/step - loss: 2.6554 - accuracy: 0.4625\n",
      "Epoch 2/50\n",
      "8/8 [==============================] - 1s 117ms/step - loss: 2.1200 - accuracy: 0.6531\n",
      "Epoch 3/50\n",
      "8/8 [==============================] - 1s 121ms/step - loss: 1.8171 - accuracy: 0.7446\n",
      "Epoch 4/50\n",
      "8/8 [==============================] - 1s 128ms/step - loss: 1.6250 - accuracy: 0.7813\n",
      "Epoch 5/50\n",
      "8/8 [==============================] - 1s 114ms/step - loss: 1.4189 - accuracy: 0.8655\n",
      "Epoch 6/50\n",
      "8/8 [==============================] - 1s 121ms/step - loss: 1.1897 - accuracy: 0.9245\n",
      "Epoch 7/50\n",
      "8/8 [==============================] - 1s 116ms/step - loss: 0.9944 - accuracy: 0.9635\n",
      "Epoch 8/50\n",
      "8/8 [==============================] - 1s 111ms/step - loss: 0.8803 - accuracy: 0.9888\n",
      "Epoch 9/50\n",
      "8/8 [==============================] - 1s 115ms/step - loss: 0.7956 - accuracy: 0.9951\n",
      "Epoch 10/50\n",
      "8/8 [==============================] - 1s 105ms/step - loss: 0.8277 - accuracy: 0.9769\n",
      "Epoch 11/50\n",
      "8/8 [==============================] - 1s 115ms/step - loss: 1.2597 - accuracy: 0.8484\n",
      "Epoch 12/50\n",
      "8/8 [==============================] - 1s 113ms/step - loss: 1.0103 - accuracy: 0.8862\n",
      "Epoch 13/50\n",
      "8/8 [==============================] - 1s 109ms/step - loss: 0.8952 - accuracy: 0.9539\n",
      "Epoch 14/50\n",
      "8/8 [==============================] - 1s 101ms/step - loss: 1.0205 - accuracy: 0.9105\n",
      "Epoch 15/50\n",
      "8/8 [==============================] - 1s 111ms/step - loss: 1.0337 - accuracy: 0.9087\n",
      "Epoch 16/50\n",
      "8/8 [==============================] - 1s 91ms/step - loss: 1.0138 - accuracy: 0.9301\n",
      "Epoch 17/50\n",
      "8/8 [==============================] - 1s 116ms/step - loss: 0.8767 - accuracy: 0.9932\n",
      "Epoch 18/50\n",
      "8/8 [==============================] - 1s 117ms/step - loss: 0.8102 - accuracy: 0.9986\n",
      "Epoch 19/50\n",
      "8/8 [==============================] - 1s 116ms/step - loss: 0.7676 - accuracy: 1.0000\n",
      "Epoch 20/50\n",
      "8/8 [==============================] - 1s 109ms/step - loss: 0.7283 - accuracy: 0.9965\n",
      "Epoch 21/50\n",
      "8/8 [==============================] - 1s 107ms/step - loss: 0.7885 - accuracy: 0.9709\n",
      "Epoch 22/50\n",
      "8/8 [==============================] - 1s 120ms/step - loss: 0.8225 - accuracy: 0.9461\n",
      "Epoch 23/50\n",
      "8/8 [==============================] - 1s 120ms/step - loss: 0.7756 - accuracy: 0.9717\n",
      "Epoch 24/50\n",
      "8/8 [==============================] - 1s 98ms/step - loss: 0.7482 - accuracy: 0.9814\n",
      "Epoch 25/50\n",
      "8/8 [==============================] - 1s 93ms/step - loss: 0.6709 - accuracy: 0.9956\n",
      "Epoch 26/50\n",
      "8/8 [==============================] - 1s 111ms/step - loss: 0.6291 - accuracy: 1.0000\n",
      "Epoch 27/50\n",
      "8/8 [==============================] - 1s 103ms/step - loss: 0.5962 - accuracy: 1.0000\n",
      "Epoch 28/50\n",
      "8/8 [==============================] - 1s 111ms/step - loss: 0.5675 - accuracy: 1.0000\n",
      "Epoch 29/50\n",
      "8/8 [==============================] - 1s 111ms/step - loss: 0.5423 - accuracy: 1.0000\n",
      "Epoch 30/50\n",
      "8/8 [==============================] - 1s 117ms/step - loss: 0.5198 - accuracy: 1.0000\n",
      "Epoch 31/50\n",
      "8/8 [==============================] - 1s 111ms/step - loss: 0.5001 - accuracy: 1.0000\n",
      "Epoch 32/50\n",
      "8/8 [==============================] - 1s 117ms/step - loss: 0.4824 - accuracy: 1.0000\n",
      "Epoch 33/50\n",
      "8/8 [==============================] - 1s 104ms/step - loss: 0.4665 - accuracy: 1.0000\n",
      "Epoch 34/50\n",
      "8/8 [==============================] - 1s 117ms/step - loss: 0.4522 - accuracy: 1.0000\n",
      "Epoch 35/50\n",
      "8/8 [==============================] - 1s 117ms/step - loss: 0.4391 - accuracy: 1.0000\n",
      "Epoch 36/50\n",
      "8/8 [==============================] - 1s 114ms/step - loss: 0.4271 - accuracy: 1.0000\n",
      "Epoch 37/50\n",
      "8/8 [==============================] - 1s 113ms/step - loss: 0.4161 - accuracy: 1.0000\n",
      "Epoch 38/50\n",
      "8/8 [==============================] - 1s 124ms/step - loss: 0.4058 - accuracy: 1.0000\n",
      "Epoch 39/50\n",
      "8/8 [==============================] - 1s 126ms/step - loss: 0.3965 - accuracy: 1.0000\n",
      "Epoch 40/50\n",
      "8/8 [==============================] - 1s 108ms/step - loss: 0.3875 - accuracy: 1.0000\n",
      "Epoch 41/50\n",
      "8/8 [==============================] - 1s 121ms/step - loss: 0.3792 - accuracy: 1.0000\n",
      "Epoch 42/50\n",
      "8/8 [==============================] - 1s 106ms/step - loss: 0.3713 - accuracy: 1.0000\n",
      "Epoch 43/50\n",
      "8/8 [==============================] - 1s 101ms/step - loss: 0.3640 - accuracy: 1.0000\n",
      "Epoch 44/50\n",
      "8/8 [==============================] - 1s 111ms/step - loss: 0.3570 - accuracy: 1.0000\n",
      "Epoch 45/50\n",
      "8/8 [==============================] - 1s 115ms/step - loss: 0.3504 - accuracy: 1.0000\n",
      "Epoch 46/50\n",
      "8/8 [==============================] - 1s 109ms/step - loss: 0.3442 - accuracy: 1.0000\n",
      "Epoch 47/50\n",
      "8/8 [==============================] - 1s 117ms/step - loss: 0.3382 - accuracy: 1.0000\n",
      "Epoch 48/50\n",
      "8/8 [==============================] - 1s 114ms/step - loss: 0.3325 - accuracy: 1.0000\n",
      "Epoch 49/50\n",
      "8/8 [==============================] - 1s 110ms/step - loss: 0.3271 - accuracy: 1.0000\n",
      "Epoch 50/50\n",
      "8/8 [==============================] - 1s 113ms/step - loss: 0.3219 - accuracy: 1.0000\n"
     ]
    },
    {
     "data": {
      "text/plain": [
       "<tensorflow.python.keras.callbacks.History at 0x7f81fa5b4370>"
      ]
     },
     "execution_count": 13,
     "metadata": {},
     "output_type": "execute_result"
    }
   ],
   "source": [
    "reg=1e-5\n",
    "model = Sequential()\n",
    "model.add(Dense(1024, activation='tanh', kernel_regularizer=L1L2(reg), input_dim=X_train.shape[1]))\n",
    "#model.add(Dropout(.1))\n",
    "model.add(Dense(512, activation='tanh',kernel_regularizer=L1L2(reg)))\n",
    "#model.add(Dropout(.1))\n",
    "model.add(Dense(256, activation='tanh',kernel_regularizer=L1L2(reg)))\n",
    "#model.add(Dropout(.1))\n",
    "model.add(Dense(128, activation='tanh',kernel_regularizer=L1L2(reg)))\n",
    "#model.add(Dropout(.1))\n",
    "model.add(Dense(64, activation='tanh',kernel_regularizer=L1L2(reg)))\n",
    "#model.add(Dropout(.1))\n",
    "model.add(Dense(1, activation='sigmoid'))\n",
    "\n",
    "model.compile(optimizer='adam', \n",
    "              loss='binary_crossentropy', \n",
    "              metrics=['accuracy'])\n",
    "\n",
    "model.fit(X_train, Y_train, epochs=50, verbose=True)"
   ]
  },
  {
   "cell_type": "markdown",
   "metadata": {},
   "source": [
    "#### Out of Sample Prediction Raw Accuracy"
   ]
  },
  {
   "cell_type": "code",
   "execution_count": 14,
   "metadata": {},
   "outputs": [
    {
     "name": "stdout",
     "output_type": "stream",
     "text": [
      "8/8 [==============================] - 0s 34ms/step - loss: 2.1322 - accuracy: 0.7031\n"
     ]
    },
    {
     "data": {
      "text/plain": [
       "[2.132178544998169, 0.703125]"
      ]
     },
     "execution_count": 14,
     "metadata": {},
     "output_type": "execute_result"
    }
   ],
   "source": [
    "model.evaluate(X_test, Y_test)"
   ]
  },
  {
   "cell_type": "markdown",
   "metadata": {},
   "source": [
    "#### Baseline Accuracy By Betting Favorite"
   ]
  },
  {
   "cell_type": "code",
   "execution_count": 15,
   "metadata": {},
   "outputs": [
    {
     "data": {
      "text/plain": [
       "0.68359375"
      ]
     },
     "execution_count": 15,
     "metadata": {},
     "output_type": "execute_result"
    }
   ],
   "source": [
    "preds = np.where(X_test[:,0] < 0, 1, 0)\n",
    "1-np.count_nonzero(preds-Y_test)/len(Y_test)"
   ]
  },
  {
   "cell_type": "markdown",
   "metadata": {},
   "source": [
    "### Compute Betting Gains using Naive Predictions (Favorite) and Our Model's Predictions"
   ]
  },
  {
   "cell_type": "code",
   "execution_count": 16,
   "metadata": {},
   "outputs": [
    {
     "data": {
      "text/plain": [
       "31"
      ]
     },
     "execution_count": 16,
     "metadata": {},
     "output_type": "execute_result"
    }
   ],
   "source": [
    "model_preds = np.round(model.predict(X_test)).astype('int')\n",
    "naive_preds = preds ##as defined above\n",
    "np.count_nonzero(model_preds.reshape(-1) - naive_preds) #Number of games where our model doesn't pick favorite"
   ]
  },
  {
   "cell_type": "code",
   "execution_count": 17,
   "metadata": {},
   "outputs": [],
   "source": [
    "s2020b['My Preds'] = model_preds\n",
    "s2020b['Naive Preds'] = preds\n",
    "s2020b['Home Pick Payout'] = np.where((s2020b['Home Win'] == 1) & (s2020b['Home ML'] < 0), -10000/s2020b['Home ML'], -100)\n",
    "s2020b['Home Pick Payout'] = np.where((s2020b['Home Win'] == 1) & (s2020b['Home ML'] > 0), s2020b['Home ML'], s2020b['Home Pick Payout'])\n",
    "s2020b['Away Pick Payout'] = np.where((s2020b['Home Win'] == 0) & (s2020b['Away ML'] < 0), -10000/s2020b['Away ML'], -100)\n",
    "s2020b['Away Pick Payout'] = np.where((s2020b['Home Win'] == 0) & (s2020b['Away ML'] > 0), s2020b['Away ML'], s2020b['Away Pick Payout'])\n",
    "s2020b['My Preds Payout'] = np.where(s2020b['My Preds'] == 1, s2020b['Home Pick Payout'], s2020b['Away Pick Payout'])\n",
    "s2020b['Naive Preds Payout'] = np.where(s2020b['Naive Preds'] == 1, s2020b['Home Pick Payout'], s2020b['Away Pick Payout'])\n"
   ]
  },
  {
   "cell_type": "code",
   "execution_count": 18,
   "metadata": {},
   "outputs": [
    {
     "data": {
      "text/html": [
       "<div>\n",
       "<style scoped>\n",
       "    .dataframe tbody tr th:only-of-type {\n",
       "        vertical-align: middle;\n",
       "    }\n",
       "\n",
       "    .dataframe tbody tr th {\n",
       "        vertical-align: top;\n",
       "    }\n",
       "\n",
       "    .dataframe thead th {\n",
       "        text-align: right;\n",
       "    }\n",
       "</style>\n",
       "<table border=\"1\" class=\"dataframe\">\n",
       "  <thead>\n",
       "    <tr style=\"text-align: right;\">\n",
       "      <th></th>\n",
       "      <th>Date</th>\n",
       "      <th>Time</th>\n",
       "      <th>Datetime</th>\n",
       "      <th>Home</th>\n",
       "      <th>Away</th>\n",
       "      <th>Home Win</th>\n",
       "      <th>Home Score</th>\n",
       "      <th>Away Score</th>\n",
       "      <th>Home ML</th>\n",
       "      <th>Away ML</th>\n",
       "      <th>My Preds</th>\n",
       "      <th>Naive Preds</th>\n",
       "      <th>Home Pick Payout</th>\n",
       "      <th>Away Pick Payout</th>\n",
       "      <th>My Preds Payout</th>\n",
       "      <th>Naive Preds Payout</th>\n",
       "    </tr>\n",
       "  </thead>\n",
       "  <tbody>\n",
       "    <tr>\n",
       "      <th>0</th>\n",
       "      <td>2020-09-10</td>\n",
       "      <td>8:20PM</td>\n",
       "      <td>2020-09-10 20:20:00</td>\n",
       "      <td>Kansas City Chiefs</td>\n",
       "      <td>Houston Texans</td>\n",
       "      <td>1</td>\n",
       "      <td>34</td>\n",
       "      <td>20</td>\n",
       "      <td>-450</td>\n",
       "      <td>375</td>\n",
       "      <td>1</td>\n",
       "      <td>1</td>\n",
       "      <td>22.222222</td>\n",
       "      <td>-100.000000</td>\n",
       "      <td>22.222222</td>\n",
       "      <td>22.222222</td>\n",
       "    </tr>\n",
       "    <tr>\n",
       "      <th>1</th>\n",
       "      <td>2020-09-13</td>\n",
       "      <td>1:00PM</td>\n",
       "      <td>2020-09-13 13:00:00</td>\n",
       "      <td>Atlanta Falcons</td>\n",
       "      <td>Seattle Seahawks</td>\n",
       "      <td>0</td>\n",
       "      <td>25</td>\n",
       "      <td>38</td>\n",
       "      <td>-115</td>\n",
       "      <td>-105</td>\n",
       "      <td>0</td>\n",
       "      <td>1</td>\n",
       "      <td>-100.000000</td>\n",
       "      <td>95.238095</td>\n",
       "      <td>95.238095</td>\n",
       "      <td>-100.000000</td>\n",
       "    </tr>\n",
       "    <tr>\n",
       "      <th>2</th>\n",
       "      <td>2020-09-13</td>\n",
       "      <td>1:00PM</td>\n",
       "      <td>2020-09-13 13:00:00</td>\n",
       "      <td>Buffalo Bills</td>\n",
       "      <td>New York Jets</td>\n",
       "      <td>1</td>\n",
       "      <td>27</td>\n",
       "      <td>17</td>\n",
       "      <td>-300</td>\n",
       "      <td>250</td>\n",
       "      <td>1</td>\n",
       "      <td>1</td>\n",
       "      <td>33.333333</td>\n",
       "      <td>-100.000000</td>\n",
       "      <td>33.333333</td>\n",
       "      <td>33.333333</td>\n",
       "    </tr>\n",
       "    <tr>\n",
       "      <th>3</th>\n",
       "      <td>2020-09-13</td>\n",
       "      <td>1:00PM</td>\n",
       "      <td>2020-09-13 13:00:00</td>\n",
       "      <td>Washington Football Team</td>\n",
       "      <td>Philadelphia Eagles</td>\n",
       "      <td>1</td>\n",
       "      <td>27</td>\n",
       "      <td>17</td>\n",
       "      <td>195</td>\n",
       "      <td>-230</td>\n",
       "      <td>0</td>\n",
       "      <td>0</td>\n",
       "      <td>195.000000</td>\n",
       "      <td>-100.000000</td>\n",
       "      <td>-100.000000</td>\n",
       "      <td>-100.000000</td>\n",
       "    </tr>\n",
       "    <tr>\n",
       "      <th>4</th>\n",
       "      <td>2020-09-13</td>\n",
       "      <td>1:00PM</td>\n",
       "      <td>2020-09-13 13:00:00</td>\n",
       "      <td>Minnesota Vikings</td>\n",
       "      <td>Green Bay Packers</td>\n",
       "      <td>0</td>\n",
       "      <td>34</td>\n",
       "      <td>43</td>\n",
       "      <td>-125</td>\n",
       "      <td>105</td>\n",
       "      <td>0</td>\n",
       "      <td>1</td>\n",
       "      <td>-100.000000</td>\n",
       "      <td>105.000000</td>\n",
       "      <td>105.000000</td>\n",
       "      <td>-100.000000</td>\n",
       "    </tr>\n",
       "    <tr>\n",
       "      <th>...</th>\n",
       "      <td>...</td>\n",
       "      <td>...</td>\n",
       "      <td>...</td>\n",
       "      <td>...</td>\n",
       "      <td>...</td>\n",
       "      <td>...</td>\n",
       "      <td>...</td>\n",
       "      <td>...</td>\n",
       "      <td>...</td>\n",
       "      <td>...</td>\n",
       "      <td>...</td>\n",
       "      <td>...</td>\n",
       "      <td>...</td>\n",
       "      <td>...</td>\n",
       "      <td>...</td>\n",
       "      <td>...</td>\n",
       "    </tr>\n",
       "    <tr>\n",
       "      <th>251</th>\n",
       "      <td>2021-01-03</td>\n",
       "      <td>4:25PM</td>\n",
       "      <td>2021-01-03 16:25:00</td>\n",
       "      <td>Chicago Bears</td>\n",
       "      <td>Green Bay Packers</td>\n",
       "      <td>0</td>\n",
       "      <td>16</td>\n",
       "      <td>35</td>\n",
       "      <td>180</td>\n",
       "      <td>-210</td>\n",
       "      <td>0</td>\n",
       "      <td>0</td>\n",
       "      <td>-100.000000</td>\n",
       "      <td>47.619048</td>\n",
       "      <td>47.619048</td>\n",
       "      <td>47.619048</td>\n",
       "    </tr>\n",
       "    <tr>\n",
       "      <th>252</th>\n",
       "      <td>2021-01-03</td>\n",
       "      <td>4:25PM</td>\n",
       "      <td>2021-01-03 16:25:00</td>\n",
       "      <td>Kansas City Chiefs</td>\n",
       "      <td>Los Angeles Chargers</td>\n",
       "      <td>0</td>\n",
       "      <td>21</td>\n",
       "      <td>38</td>\n",
       "      <td>250</td>\n",
       "      <td>-300</td>\n",
       "      <td>0</td>\n",
       "      <td>0</td>\n",
       "      <td>-100.000000</td>\n",
       "      <td>33.333333</td>\n",
       "      <td>33.333333</td>\n",
       "      <td>33.333333</td>\n",
       "    </tr>\n",
       "    <tr>\n",
       "      <th>253</th>\n",
       "      <td>2021-01-03</td>\n",
       "      <td>4:25PM</td>\n",
       "      <td>2021-01-03 16:25:00</td>\n",
       "      <td>Denver Broncos</td>\n",
       "      <td>Las Vegas Raiders</td>\n",
       "      <td>0</td>\n",
       "      <td>31</td>\n",
       "      <td>32</td>\n",
       "      <td>130</td>\n",
       "      <td>-150</td>\n",
       "      <td>0</td>\n",
       "      <td>0</td>\n",
       "      <td>-100.000000</td>\n",
       "      <td>66.666667</td>\n",
       "      <td>66.666667</td>\n",
       "      <td>66.666667</td>\n",
       "    </tr>\n",
       "    <tr>\n",
       "      <th>254</th>\n",
       "      <td>2021-01-03</td>\n",
       "      <td>4:25PM</td>\n",
       "      <td>2021-01-03 16:25:00</td>\n",
       "      <td>Houston Texans</td>\n",
       "      <td>Tennessee Titans</td>\n",
       "      <td>0</td>\n",
       "      <td>38</td>\n",
       "      <td>41</td>\n",
       "      <td>280</td>\n",
       "      <td>-340</td>\n",
       "      <td>0</td>\n",
       "      <td>0</td>\n",
       "      <td>-100.000000</td>\n",
       "      <td>29.411765</td>\n",
       "      <td>29.411765</td>\n",
       "      <td>29.411765</td>\n",
       "    </tr>\n",
       "    <tr>\n",
       "      <th>255</th>\n",
       "      <td>2021-01-03</td>\n",
       "      <td>8:20PM</td>\n",
       "      <td>2021-01-03 20:20:00</td>\n",
       "      <td>Philadelphia Eagles</td>\n",
       "      <td>Washington Football Team</td>\n",
       "      <td>0</td>\n",
       "      <td>14</td>\n",
       "      <td>20</td>\n",
       "      <td>250</td>\n",
       "      <td>-300</td>\n",
       "      <td>1</td>\n",
       "      <td>0</td>\n",
       "      <td>-100.000000</td>\n",
       "      <td>33.333333</td>\n",
       "      <td>-100.000000</td>\n",
       "      <td>33.333333</td>\n",
       "    </tr>\n",
       "  </tbody>\n",
       "</table>\n",
       "<p>256 rows × 16 columns</p>\n",
       "</div>"
      ],
      "text/plain": [
       "           Date    Time             Datetime                      Home  \\\n",
       "0    2020-09-10  8:20PM  2020-09-10 20:20:00        Kansas City Chiefs   \n",
       "1    2020-09-13  1:00PM  2020-09-13 13:00:00           Atlanta Falcons   \n",
       "2    2020-09-13  1:00PM  2020-09-13 13:00:00             Buffalo Bills   \n",
       "3    2020-09-13  1:00PM  2020-09-13 13:00:00  Washington Football Team   \n",
       "4    2020-09-13  1:00PM  2020-09-13 13:00:00         Minnesota Vikings   \n",
       "..          ...     ...                  ...                       ...   \n",
       "251  2021-01-03  4:25PM  2021-01-03 16:25:00             Chicago Bears   \n",
       "252  2021-01-03  4:25PM  2021-01-03 16:25:00        Kansas City Chiefs   \n",
       "253  2021-01-03  4:25PM  2021-01-03 16:25:00            Denver Broncos   \n",
       "254  2021-01-03  4:25PM  2021-01-03 16:25:00            Houston Texans   \n",
       "255  2021-01-03  8:20PM  2021-01-03 20:20:00       Philadelphia Eagles   \n",
       "\n",
       "                         Away  Home Win  Home Score  Away Score  Home ML  \\\n",
       "0              Houston Texans         1          34          20     -450   \n",
       "1            Seattle Seahawks         0          25          38     -115   \n",
       "2               New York Jets         1          27          17     -300   \n",
       "3         Philadelphia Eagles         1          27          17      195   \n",
       "4           Green Bay Packers         0          34          43     -125   \n",
       "..                        ...       ...         ...         ...      ...   \n",
       "251         Green Bay Packers         0          16          35      180   \n",
       "252      Los Angeles Chargers         0          21          38      250   \n",
       "253         Las Vegas Raiders         0          31          32      130   \n",
       "254          Tennessee Titans         0          38          41      280   \n",
       "255  Washington Football Team         0          14          20      250   \n",
       "\n",
       "     Away ML  My Preds  Naive Preds  Home Pick Payout  Away Pick Payout  \\\n",
       "0        375         1            1         22.222222       -100.000000   \n",
       "1       -105         0            1       -100.000000         95.238095   \n",
       "2        250         1            1         33.333333       -100.000000   \n",
       "3       -230         0            0        195.000000       -100.000000   \n",
       "4        105         0            1       -100.000000        105.000000   \n",
       "..       ...       ...          ...               ...               ...   \n",
       "251     -210         0            0       -100.000000         47.619048   \n",
       "252     -300         0            0       -100.000000         33.333333   \n",
       "253     -150         0            0       -100.000000         66.666667   \n",
       "254     -340         0            0       -100.000000         29.411765   \n",
       "255     -300         1            0       -100.000000         33.333333   \n",
       "\n",
       "     My Preds Payout  Naive Preds Payout  \n",
       "0          22.222222           22.222222  \n",
       "1          95.238095         -100.000000  \n",
       "2          33.333333           33.333333  \n",
       "3        -100.000000         -100.000000  \n",
       "4         105.000000         -100.000000  \n",
       "..               ...                 ...  \n",
       "251        47.619048           47.619048  \n",
       "252        33.333333           33.333333  \n",
       "253        66.666667           66.666667  \n",
       "254        29.411765           29.411765  \n",
       "255      -100.000000           33.333333  \n",
       "\n",
       "[256 rows x 16 columns]"
      ]
     },
     "execution_count": 18,
     "metadata": {},
     "output_type": "execute_result"
    }
   ],
   "source": [
    "s2020b"
   ]
  },
  {
   "cell_type": "code",
   "execution_count": 19,
   "metadata": {},
   "outputs": [
    {
     "data": {
      "text/plain": [
       "1510.99267630983"
      ]
     },
     "execution_count": 19,
     "metadata": {},
     "output_type": "execute_result"
    }
   ],
   "source": [
    "np.sum(s2020b['My Preds Payout'])"
   ]
  },
  {
   "cell_type": "code",
   "execution_count": 20,
   "metadata": {},
   "outputs": [
    {
     "data": {
      "text/plain": [
       "-618.9233628737145"
      ]
     },
     "execution_count": 20,
     "metadata": {},
     "output_type": "execute_result"
    }
   ],
   "source": [
    "np.sum(s2020b['Naive Preds Payout'])"
   ]
  },
  {
   "cell_type": "code",
   "execution_count": null,
   "metadata": {},
   "outputs": [],
   "source": []
  }
 ],
 "metadata": {
  "kernelspec": {
   "display_name": "Python 3",
   "language": "python",
   "name": "python3"
  },
  "language_info": {
   "codemirror_mode": {
    "name": "ipython",
    "version": 3
   },
   "file_extension": ".py",
   "mimetype": "text/x-python",
   "name": "python",
   "nbconvert_exporter": "python",
   "pygments_lexer": "ipython3",
   "version": "3.8.5"
  }
 },
 "nbformat": 4,
 "nbformat_minor": 4
}
