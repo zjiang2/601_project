{
 "cells": [
  {
   "cell_type": "code",
   "execution_count": 1,
   "metadata": {},
   "outputs": [],
   "source": [
    "import snscrape.modules.twitter as sntwitter\n",
    "import pandas as pd\n",
    "import numpy as np\n",
    "import re\n",
    "import datetime"
   ]
  },
  {
   "cell_type": "code",
   "execution_count": 3,
   "metadata": {},
   "outputs": [
    {
     "name": "stdout",
     "output_type": "stream",
     "text": [
      "256\n",
      "256\n",
      "256\n",
      "256\n",
      "256\n",
      "256\n",
      "256\n",
      "256\n",
      "256\n",
      "256\n"
     ]
    }
   ],
   "source": [
    "for i in range(2011, 2021):\n",
    "    test = pd.read_csv('data/raw_season_data/{}.txt'.format(i), sep=',')\n",
    "    print(len(test))"
   ]
  },
  {
   "cell_type": "code",
   "execution_count": 4,
   "metadata": {},
   "outputs": [],
   "source": [
    "def format_dataframe(df):\n",
    "    df['Home'] = np.where(df['Unnamed: 5'] == '@', df['Loser/tie'], df['Winner/tie'])\n",
    "    df['Away'] = np.where(df['Unnamed: 5'] == '@', df['Winner/tie'], df['Loser/tie'])\n",
    "    df['Home Win'] = np.where(df['Unnamed: 5'] == '@', 0, 1)\n",
    "    df['Datetime'] = pd.to_datetime(df['Date']+ ' ' + df['Time'])\n",
    "    return df[['Date', 'Time', 'Datetime', 'Home', 'Away', 'Home Win']]\n",
    "    "
   ]
  },
  {
   "cell_type": "code",
   "execution_count": 8,
   "metadata": {},
   "outputs": [],
   "source": [
    "season_of_interest = 2017\n",
    "df = pd.read_csv('data/raw_season_data/{}.txt'.format(season_of_interest), sep=',')\n",
    "format_dataframe(df).to_csv('{}_all_data.csv'.format(season_of_interest))"
   ]
  },
  {
   "cell_type": "code",
   "execution_count": null,
   "metadata": {},
   "outputs": [],
   "source": [
    "test"
   ]
  },
  {
   "cell_type": "code",
   "execution_count": null,
   "metadata": {},
   "outputs": [],
   "source": [
    "def format_bears(df):\n",
    "    indices_to_keep = []\n",
    "    for i in range(len(df)):\n",
    "        if df.iloc[i]['Winner/tie'] == 'Chicago Bears' or df.iloc[i]['Loser/tie'] == 'Chicago Bears':\n",
    "            indices_to_keep.append(i)\n",
    "    subset = df.iloc[indices_to_keep,:].copy()\n",
    "    subset['Datetime'] = pd.to_datetime(subset['Date']+ ' ' + subset['Time'])\n",
    "    subset['Win'] = np.where(subset['Winner/tie'] == 'Chicago Bears', 1, 0)\n",
    "    return subset[['Week','Date', 'Time', 'Datetime', 'Win']].reset_index(drop=True)"
   ]
  },
  {
   "cell_type": "code",
   "execution_count": null,
   "metadata": {},
   "outputs": [],
   "source": [
    "format_bears(test)"
   ]
  },
  {
   "cell_type": "code",
   "execution_count": null,
   "metadata": {},
   "outputs": [],
   "source": [
    "def get_all_bears():\n",
    "    to_concatenate = []\n",
    "    for i in range(2011, 2021):\n",
    "        this_year = pd.read_csv('data/{}.txt'.format(i), sep=',')\n",
    "        cleaned = format_bears(this_year)\n",
    "        to_concatenate.append(cleaned)\n",
    "    return pd.concat(to_concatenate, axis=0)"
   ]
  },
  {
   "cell_type": "code",
   "execution_count": null,
   "metadata": {},
   "outputs": [],
   "source": [
    "get_all_bears().to_csv('all_bears_data.csv')"
   ]
  },
  {
   "cell_type": "code",
   "execution_count": null,
   "metadata": {},
   "outputs": [],
   "source": [
    "np.unique(test['Winner/tie'].values)"
   ]
  },
  {
   "cell_type": "code",
   "execution_count": null,
   "metadata": {},
   "outputs": [],
   "source": []
  }
 ],
 "metadata": {
  "kernelspec": {
   "display_name": "Python 3",
   "language": "python",
   "name": "python3"
  },
  "language_info": {
   "codemirror_mode": {
    "name": "ipython",
    "version": 3
   },
   "file_extension": ".py",
   "mimetype": "text/x-python",
   "name": "python",
   "nbconvert_exporter": "python",
   "pygments_lexer": "ipython3",
   "version": "3.8.6"
  }
 },
 "nbformat": 4,
 "nbformat_minor": 4
}
