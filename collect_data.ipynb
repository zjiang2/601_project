{
 "cells": [
  {
   "cell_type": "code",
   "execution_count": 2,
   "metadata": {},
   "outputs": [],
   "source": [
    "import snscrape.modules.twitter as sntwitter\n",
    "import pandas as pd\n",
    "import numpy as np\n",
    "import re\n",
    "import datetime"
   ]
  },
  {
   "cell_type": "code",
   "execution_count": 3,
   "metadata": {},
   "outputs": [],
   "source": [
    "# get bears hashtags and the hashtags of other teams\n",
    "bears = []\n",
    "others = []\n",
    "with open(\"teams.nfl.hashtags\") as hashtags:\n",
    "    for team in hashtags:\n",
    "        tags = team.strip(\"\\n\")\n",
    "        tags = re.split(\"\\t| \", tags)\n",
    "        if tags[0] == \"CHI\":\n",
    "            bears = tags[1:]\n",
    "        else:\n",
    "            others.extend(tags[1:])"
   ]
  },
  {
   "cell_type": "code",
   "execution_count": 4,
   "metadata": {},
   "outputs": [],
   "source": [
    "# count unigrams\n",
    "def count_unigrams(tweet):\n",
    "    global corpus\n",
    "    words = tweet.split(\" \")\n",
    "    for word in words:\n",
    "        if word in corpus:\n",
    "            corpus[word] += 1\n",
    "        else:\n",
    "            corpus[word] = 1"
   ]
  },
  {
   "cell_type": "code",
   "execution_count": 5,
   "metadata": {},
   "outputs": [],
   "source": [
    "# load in Chicago Bears 2020 season schedule\n",
    "# information retrieved from pro-football-reference.com\n",
    "schedule = pd.read_csv(\"bears_2020.txt\",sep=\"\\t\")\n",
    "schedule[\"Start_time\"] = pd.to_datetime(schedule[\"Start_time\"], utc=True)"
   ]
  },
  {
   "cell_type": "code",
   "execution_count": 8,
   "metadata": {
    "scrolled": true
   },
   "outputs": [
    {
     "name": "stdout",
     "output_type": "stream",
     "text": [
      "processing week 1\n",
      "processing week 2\n",
      "processing week 3\n",
      "processing week 4\n",
      "processing week 5\n",
      "processing week 6\n",
      "processing week 7\n",
      "processing week 8\n",
      "processing week 9\n",
      "processing week 10\n",
      "processing week 12\n",
      "processing week 13\n",
      "processing week 14\n",
      "processing week 15\n",
      "processing week 16\n",
      "processing week 17\n"
     ]
    }
   ],
   "source": [
    "# scrape twitter for unigrams\n",
    "bears_tags = \" OR \".join(bears)\n",
    "corpus = {}\n",
    "\n",
    "for i in range(16):\n",
    "    print(\"processing week\",str(schedule.iloc[i][\"Week\"]))\n",
    "    # For each week, decide the date range to scrape tweets.\n",
    "    # For week 1 and the week after the bye, say the range is the 7 days prior to the game.\n",
    "    if (i==0) or (schedule.iloc[i][\"Week\"] - schedule.iloc[i-1][\"Week\"]) == 2:\n",
    "        start = schedule.iloc[i][\"Start_time\"] - datetime.timedelta(days=7)\n",
    "    else:\n",
    "        start = schedule.iloc[i-1][\"Start_time\"] + datetime.timedelta(hours=4)\n",
    "    end = schedule.iloc[i][\"Start_time\"] - datetime.timedelta(hours=1)\n",
    "    date_range = \" since:\" + start.strftime('%Y-%m-%d') + \" until:\" + end.strftime('%Y-%m-%d')\n",
    "    query = bears_tags + date_range\n",
    "    \n",
    "    #print(start,end)\n",
    "    # Scrape the tweets for the date_range. Also have to filter based on the \n",
    "    # time stamp so as not to capture tweets during and after games.\n",
    "    for i,tweet in enumerate(sntwitter.TwitterSearchScraper(query).get_items()):\n",
    "        if i > 10000:\n",
    "            break\n",
    "        #print(tweet.date)\n",
    "        if not (start <= tweet.date <= end):\n",
    "            #print(\"found a bad one!\", tweet.date)\n",
    "            continue\n",
    "        tw = tweet.content.lower()\n",
    "        if not any(o in tw for o in others):\n",
    "            count_unigrams(tw)"
   ]
  },
  {
   "cell_type": "code",
   "execution_count": 9,
   "metadata": {},
   "outputs": [
    {
     "data": {
      "text/plain": [
       "[('the', 88980),\n",
       " ('to', 48264),\n",
       " ('#bears', 48022),\n",
       " ('a', 40608),\n",
       " ('and', 32428),\n",
       " ('in', 26293),\n",
       " ('#dabears', 25626),\n",
       " ('of', 23977),\n",
       " ('', 22559),\n",
       " ('for', 22450),\n",
       " ('is', 21532),\n",
       " ('#beardown', 20560),\n",
       " ('on', 19704),\n",
       " ('this', 17600),\n",
       " ('i', 16675),\n",
       " ('that', 12940),\n",
       " ('with', 12397),\n",
       " ('you', 12171),\n",
       " ('bears', 11973),\n",
       " ('be', 11843),\n",
       " ('at', 10229),\n",
       " ('have', 9920),\n",
       " ('it', 9721),\n",
       " ('are', 9679),\n",
       " ('we', 9627),\n",
       " ('#gobears', 8430),\n",
       " ('but', 8296),\n",
       " ('he', 8145),\n",
       " ('was', 7663),\n",
       " ('as', 6981),\n",
       " ('#chicagobears', 6942),\n",
       " ('not', 6816),\n",
       " ('they', 6717),\n",
       " ('chicago', 6420),\n",
       " ('all', 6387),\n",
       " ('from', 6340),\n",
       " ('my', 6281),\n",
       " ('&amp;', 6159),\n",
       " ('will', 6106),\n",
       " ('his', 6055),\n",
       " ('game', 6040),\n",
       " ('if', 6020),\n",
       " ('get', 5930),\n",
       " ('out', 5712),\n",
       " ('has', 5712),\n",
       " ('up', 5696),\n",
       " ('#nfl', 5668),\n",
       " ('just', 5498),\n",
       " ('nagy', 5418),\n",
       " ('-', 5361),\n",
       " ('so', 5322),\n",
       " ('@chicagobears', 5208),\n",
       " ('what', 5128),\n",
       " ('our', 4839),\n",
       " ('like', 4794),\n",
       " ('about', 4694),\n",
       " ('can', 4631),\n",
       " ('good', 4526),\n",
       " ('their', 4403),\n",
       " ('team', 4400),\n",
       " ('your', 4347),\n",
       " ('week', 4230),\n",
       " ('by', 4102),\n",
       " ('an', 3967),\n",
       " ('one', 3959),\n",
       " ('do', 3945),\n",
       " ('play', 3941),\n",
       " ('win', 3907),\n",
       " ('how', 3829),\n",
       " ('or', 3829),\n",
       " ('more', 3764),\n",
       " ('no', 3683),\n",
       " ('mitch', 3682),\n",
       " ('been', 3461),\n",
       " ('when', 3446),\n",
       " ('qb', 3368),\n",
       " ('trubisky', 3358),\n",
       " ('go', 3342),\n",
       " ('would', 3257),\n",
       " ('him', 3253),\n",
       " ('who', 3245),\n",
       " ('foles', 3228),\n",
       " ('time', 3216),\n",
       " ('back', 3206),\n",
       " ('some', 3197),\n",
       " ('see', 3174),\n",
       " ('after', 3154),\n",
       " ('matt', 3135),\n",
       " ('great', 3129),\n",
       " ('me', 3048),\n",
       " ('last', 3005),\n",
       " ('had', 3000),\n",
       " ('now', 2986),\n",
       " ('still', 2957),\n",
       " ('first', 2745),\n",
       " ('over', 2742),\n",
       " ('against', 2738),\n",
       " ('going', 2692),\n",
       " ('new', 2687),\n",
       " ('need', 2678)]"
      ]
     },
     "execution_count": 9,
     "metadata": {},
     "output_type": "execute_result"
    }
   ],
   "source": [
    "sorted(corpus.items(), key=lambda x: x[1], reverse=True)[:100]"
   ]
  },
  {
   "cell_type": "code",
   "execution_count": null,
   "metadata": {},
   "outputs": [],
   "source": []
  },
  {
   "cell_type": "code",
   "execution_count": null,
   "metadata": {},
   "outputs": [],
   "source": []
  },
  {
   "cell_type": "code",
   "execution_count": null,
   "metadata": {},
   "outputs": [],
   "source": []
  },
  {
   "cell_type": "code",
   "execution_count": null,
   "metadata": {},
   "outputs": [],
   "source": []
  },
  {
   "cell_type": "code",
   "execution_count": null,
   "metadata": {},
   "outputs": [],
   "source": []
  },
  {
   "cell_type": "code",
   "execution_count": null,
   "metadata": {},
   "outputs": [],
   "source": []
  },
  {
   "cell_type": "code",
   "execution_count": null,
   "metadata": {},
   "outputs": [],
   "source": []
  },
  {
   "cell_type": "code",
   "execution_count": null,
   "metadata": {},
   "outputs": [],
   "source": []
  }
 ],
 "metadata": {
  "kernelspec": {
   "display_name": "Python 3",
   "language": "python",
   "name": "python3"
  },
  "language_info": {
   "codemirror_mode": {
    "name": "ipython",
    "version": 3
   },
   "file_extension": ".py",
   "mimetype": "text/x-python",
   "name": "python",
   "nbconvert_exporter": "python",
   "pygments_lexer": "ipython3",
   "version": "3.8.5"
  }
 },
 "nbformat": 4,
 "nbformat_minor": 4
}
